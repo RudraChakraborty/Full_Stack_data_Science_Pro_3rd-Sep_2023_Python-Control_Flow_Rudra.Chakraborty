{
 "cells": [
  {
   "cell_type": "markdown",
   "id": "3bb8cf82",
   "metadata": {},
   "source": [
    "# Basic If-Else Statements:"
   ]
  },
  {
   "cell_type": "markdown",
   "id": "9e3145e4",
   "metadata": {},
   "source": [
    "1. Write a Python program to check if a given number is positive or negative."
   ]
  },
  {
   "cell_type": "code",
   "execution_count": 3,
   "id": "75d325e2",
   "metadata": {},
   "outputs": [
    {
     "name": "stdout",
     "output_type": "stream",
     "text": [
      "The number is negative\n"
     ]
    }
   ],
   "source": [
    "def check_positive_Or_negative(num):\n",
    "    if num > 0:\n",
    "        print(\"The number is positive\")\n",
    "    elif num < 0:\n",
    "        print(\"The number is negative\")\n",
    "    else:\n",
    "        print(\"The number is Zero\")\n",
    "\n",
    "number=float(input(\"Enter the value\"))\n",
    "check_positive_Or_negative(number)"
   ]
  },
  {
   "cell_type": "markdown",
   "id": "f2514393",
   "metadata": {},
   "source": [
    "2. Create a program that determines if a person is eligible to vote based on their age."
   ]
  },
  {
   "cell_type": "code",
   "execution_count": 4,
   "id": "50dee110",
   "metadata": {},
   "outputs": [
    {
     "name": "stdout",
     "output_type": "stream",
     "text": [
      "You are eligible to vote!\n"
     ]
    }
   ],
   "source": [
    "def check_voting_eligible(age):\n",
    "    if age>=18:\n",
    "        print(\"You are eligible to vote!\")\n",
    "    else:\n",
    "        print(\"Sorry! You are under age not eligible to vote yet \")\n",
    "\n",
    "age=float(input(\"Please enter your age:\"))\n",
    "check_voting_eligible(age)"
   ]
  },
  {
   "cell_type": "markdown",
   "id": "c4e0bd15",
   "metadata": {},
   "source": [
    "3. Develop a program to find the maximum of two numbers using if-else statements."
   ]
  },
  {
   "cell_type": "code",
   "execution_count": 6,
   "id": "7afd78e6",
   "metadata": {},
   "outputs": [
    {
     "name": "stdout",
     "output_type": "stream",
     "text": [
      "The maximum of 18.0 and 17.0 is: 18.0\n"
     ]
    }
   ],
   "source": [
    "def find_max(num1,num2):\n",
    "    if num1 > num2:\n",
    "        return num1\n",
    "    else:\n",
    "        return num2\n",
    "\n",
    "number1=float(input(\"Enter the first number:\"))\n",
    "number2=float(input(\"Enter the first number:\"))\n",
    "\n",
    "maximum=find_max(number1,number2)\n",
    "print(f\"The maximum of {number1} and {number2} is: {maximum}\")\n"
   ]
  },
  {
   "cell_type": "markdown",
   "id": "fe5ee715",
   "metadata": {},
   "source": [
    "4. Write a Python script to classify a given year as a leap year or not."
   ]
  },
  {
   "cell_type": "code",
   "execution_count": 5,
   "id": "101976fb",
   "metadata": {},
   "outputs": [
    {
     "name": "stdout",
     "output_type": "stream",
     "text": [
      "2023 is not a leap year.\n"
     ]
    }
   ],
   "source": [
    "def is_leap_year(year):\n",
    "    if (year % 4==0 and year % 100 !=0) or (year % 400== 0):\n",
    "        return True\n",
    "    else:\n",
    "        return False\n",
    "    \n",
    "year=int(input(\"Enter a year: \"))\n",
    "\n",
    "if is_leap_year(year):\n",
    "    print(year, \"is a leap year.\")\n",
    "else:\n",
    "    print(year, \"is not a leap year.\")"
   ]
  },
  {
   "cell_type": "markdown",
   "id": "d12e7dc7",
   "metadata": {},
   "source": [
    "5. Create a program that checks whether a character is a vowel or a consonant."
   ]
  },
  {
   "cell_type": "code",
   "execution_count": 11,
   "id": "fbe4958d",
   "metadata": {},
   "outputs": [
    {
     "name": "stdout",
     "output_type": "stream",
     "text": [
      "The character 'Aerious' is a consonant.\n"
     ]
    }
   ],
   "source": [
    "def check_vowel_or_consonant(char):\n",
    "    vowel=\"aeiouAEIOU\"\n",
    "    if char.isalpha():\n",
    "        if char in vowel:\n",
    "            return f\"The character '{char}' is a vowel.\"\n",
    "        else:\n",
    "            return f\"The character '{char}' is a consonant.\"\n",
    "    else:\n",
    "        return f\"The character '{char}' is not an alphabet.\"\n",
    "\n",
    "character=input(\"Enter a character: \")\n",
    "\n",
    "result=check_vowel_or_consonant(character)\n",
    "print(result)"
   ]
  },
  {
   "cell_type": "markdown",
   "id": "aae7a804",
   "metadata": {},
   "source": [
    "6. Implement a program to determine whether a given number is even or odd."
   ]
  },
  {
   "cell_type": "code",
   "execution_count": 12,
   "id": "37c354a9",
   "metadata": {},
   "outputs": [
    {
     "name": "stdout",
     "output_type": "stream",
     "text": [
      "The number 28 is Even\n"
     ]
    }
   ],
   "source": [
    "def check_even_or_odd(num):\n",
    "    if num % 2==0:\n",
    "        return \"Even\"\n",
    "    else:\n",
    "        return \"Odd\"\n",
    "    \n",
    "number = int(input(\"Enter a number: \"))\n",
    "result=check_even_or_odd(number)\n",
    "print(f\"The number {number} is {result}\")"
   ]
  },
  {
   "cell_type": "markdown",
   "id": "1d07b6a5",
   "metadata": {},
   "source": [
    "7. Write a Python function to calculate the absolute value of a number without using the `abs()` function."
   ]
  },
  {
   "cell_type": "code",
   "execution_count": 16,
   "id": "4544e130",
   "metadata": {},
   "outputs": [
    {
     "name": "stdout",
     "output_type": "stream",
     "text": [
      "The absolute value of -25.0 is 25.0\n"
     ]
    }
   ],
   "source": [
    "def absolute_value(number):\n",
    "    if number < 0:\n",
    "        return -number\n",
    "    else:\n",
    "        return number\n",
    "    \n",
    "number= float(input(\"Enter a number:\"))\n",
    "abs_value=absolute_value(number)\n",
    "print(f\"The absolute value of {number} is {abs_value}\")"
   ]
  },
  {
   "cell_type": "markdown",
   "id": "73daa0ba",
   "metadata": {},
   "source": [
    "8. Develop a program that determines the largest of three given numbers using if-else statements."
   ]
  },
  {
   "cell_type": "code",
   "execution_count": 18,
   "id": "442e3e23",
   "metadata": {},
   "outputs": [
    {
     "name": "stdout",
     "output_type": "stream",
     "text": [
      "The largest of 22.0,33.0 and 44.0 is 44.0\n"
     ]
    }
   ],
   "source": [
    "def find_largest(num1,num2,num3):\n",
    "    if num1>=num2 and num1>=num3:\n",
    "        return num1\n",
    "    elif num2>=num3 and num2>=num3:\n",
    "        return num2\n",
    "    else:\n",
    "        return num3\n",
    "    \n",
    "number1=float(input(\"Enter the first number: \"))\n",
    "number2=float(input(\"Enter the second number: \"))\n",
    "number3=float(input(\"Enter the third number: \"))\n",
    "\n",
    "largest=find_largest(number1, number2, number3)\n",
    "print(f\"The largest of {number1},{number2} and {number3} is {largest}\")"
   ]
  },
  {
   "cell_type": "markdown",
   "id": "2acfca23",
   "metadata": {},
   "source": [
    "9. Create a program that checks if a given string is a palindrome."
   ]
  },
  {
   "cell_type": "code",
   "execution_count": 21,
   "id": "23f9b18a",
   "metadata": {},
   "outputs": [
    {
     "name": "stdout",
     "output_type": "stream",
     "text": [
      "quantum  is not a palindrom\n"
     ]
    }
   ],
   "source": [
    "def a_palindrom(s):\n",
    "    return s==s[::-1]\n",
    "str=input(\"Enter your string: \")\n",
    "if a_palindrom(str):\n",
    "    print(str,\"is a palindrom\")\n",
    "else:\n",
    "    print(str, \" is not a palindrom\")"
   ]
  },
  {
   "cell_type": "markdown",
   "id": "d304cb41",
   "metadata": {},
   "source": [
    "10. Write a Python program to calculate the grade based on a student's score."
   ]
  },
  {
   "cell_type": "code",
   "execution_count": 3,
   "id": "807f7736",
   "metadata": {},
   "outputs": [
    {
     "name": "stdout",
     "output_type": "stream",
     "text": [
      "The student's grade is: A\n"
     ]
    }
   ],
   "source": [
    "def calculate_gread(score):\n",
    "    if score>=90:\n",
    "        return \"A+\"\n",
    "    elif score>=80:\n",
    "        return \"A\"\n",
    "    elif score>=70:\n",
    "        return \"B+\"\n",
    "    elif score>=60:\n",
    "        return \"B\"\n",
    "    elif 30==score>=50:\n",
    "        return \"C\"\n",
    "    else:\n",
    "        return \"Fail\"\n",
    "    \n",
    "score = float(input(\"Enter the student's score: \"))\n",
    "\n",
    "grade = calculate_gread(score)\n",
    "print(\"The student's grade is:\", grade)"
   ]
  },
  {
   "cell_type": "markdown",
   "id": "5dde8135",
   "metadata": {},
   "source": [
    "# Nested If-Else Statements:"
   ]
  },
  {
   "cell_type": "markdown",
   "id": "c1cf1723",
   "metadata": {},
   "source": [
    "11. Write a program to find the largest among three numbers using nested if-else statements."
   ]
  },
  {
   "cell_type": "code",
   "execution_count": 25,
   "id": "bfabca04",
   "metadata": {},
   "outputs": [
    {
     "name": "stdout",
     "output_type": "stream",
     "text": [
      "The largest of 66.0,77.0,88.0 is:88.0\n"
     ]
    }
   ],
   "source": [
    "def find_largest(num1,num2,num3):\n",
    "    if num1>=num2:\n",
    "        if num1>=num3:\n",
    "            largest = num1\n",
    "        else:\n",
    "            largest=num3\n",
    "    else:\n",
    "        if num2>=num3:\n",
    "            largest=num2\n",
    "        else:\n",
    "            largest=num3\n",
    "    return largest\n",
    "\n",
    "number1= float(input(\"Enter First Number:\"))\n",
    "number2= float(input(\"Enter Second Number:\"))\n",
    "number3=float(input(\"Enter Thired Number:\"))\n",
    "\n",
    "largest=find_largest(number1,number2,number3)\n",
    "print(f\"The largest of {number1},{number2},{number3} is:{largest}\")\n"
   ]
  },
  {
   "cell_type": "markdown",
   "id": "f6ca4ebd",
   "metadata": {},
   "source": [
    "12. Implement a program to determine if a triangle is equilateral, isosceles, or scalene."
   ]
  },
  {
   "cell_type": "code",
   "execution_count": 31,
   "id": "a6a3f83f",
   "metadata": {},
   "outputs": [
    {
     "name": "stdout",
     "output_type": "stream",
     "text": [
      "The triangle is Equilateral\n"
     ]
    }
   ],
   "source": [
    "def triangel_type(side1,side2,side3):\n",
    "    if side1==side2==side3:\n",
    "        return \"Equilateral\"\n",
    "    if side1==side2 or side1==side3 or side2==side3:\n",
    "        return \"Isosceles\"\n",
    "    else:\n",
    "        return \"Scalene\"\n",
    "    \n",
    "side1=float(input(\"Enter the length of side 1: \"))\n",
    "side2=float(input(\"Enter the length of side 2: \"))\n",
    "side3=float(input(\"Enter the length of side 3: \"))\n",
    "\n",
    "if side1<=0 or side2<=0 or side3<=0:\n",
    "    print(\"Invalid input! Side lengths should be positive.\")\n",
    "else:\n",
    "    triangel=triangel_type(side1,side2,side3)\n",
    "    print(\"The triangle is\", triangel)\n"
   ]
  },
  {
   "cell_type": "markdown",
   "id": "9d6b364c",
   "metadata": {},
   "source": [
    "13. Develop a program that checks if a year is a leap year and also if it is a century year."
   ]
  },
  {
   "cell_type": "code",
   "execution_count": 36,
   "id": "9e68b0a9",
   "metadata": {},
   "outputs": [
    {
     "name": "stdout",
     "output_type": "stream",
     "text": [
      "2024 is a leap year: \n",
      "2024 is a not century year.\n"
     ]
    }
   ],
   "source": [
    "def leap_year(year):\n",
    "    if year % 4==0:\n",
    "        if year % 100==0:\n",
    "            if year % 400==0:\n",
    "                return True\n",
    "            else:\n",
    "                return False\n",
    "        else:\n",
    "            return True\n",
    "    else:\n",
    "        return False\n",
    "    \n",
    "def is_century_year(year):\n",
    "    return year % 100==0\n",
    "\n",
    "year=int(input(\"Enter the year:\"))\n",
    "\n",
    "if leap_year(year):\n",
    "    print(year, \"is a leap year: \")\n",
    "else:\n",
    "    print(year, \"is a leap year: \")\n",
    "\n",
    "if is_century_year(year):\n",
    "    print(year, \"is a century year.\")\n",
    "else:\n",
    "    print(year, \"is a not century year.\")"
   ]
  },
  {
   "cell_type": "markdown",
   "id": "61569bed",
   "metadata": {},
   "source": [
    "14. Write a Python script to determine if a number is positive, negative, or zero."
   ]
  },
  {
   "cell_type": "code",
   "execution_count": 37,
   "id": "83a9758b",
   "metadata": {},
   "outputs": [
    {
     "name": "stdout",
     "output_type": "stream",
     "text": [
      "The number -5.0 is Negative\n"
     ]
    }
   ],
   "source": [
    "def check_number(num):\n",
    "    if num > 0:\n",
    "        return \"Positive\"\n",
    "    elif num < 0:\n",
    "        return \"Negative\"\n",
    "    else:\n",
    "        return \"Zero\"\n",
    "\n",
    "number=float(input(\"Enter a number\"))\n",
    "result=check_number(number)\n",
    "print(f\"The number {number} is {result}\")"
   ]
  },
  {
   "cell_type": "markdown",
   "id": "54d7df6c",
   "metadata": {},
   "source": [
    "15. Create a program to check if a person is a teenager (between 13 and 19 years old)."
   ]
  },
  {
   "cell_type": "code",
   "execution_count": 42,
   "id": "f1b8fc31",
   "metadata": {},
   "outputs": [
    {
     "name": "stdout",
     "output_type": "stream",
     "text": [
      "You are 18 year old, you are a teenager\n"
     ]
    }
   ],
   "source": [
    "def is_teen(age):\n",
    "    return 13<= age <=19\n",
    "age= int(input(\"Enter the age:\"))\n",
    "\n",
    "if is_teen(age):\n",
    "    print(f\"You are {age} year old, you are a teenager\")\n",
    "else:\n",
    "    print(f\"You are {age} year old, you are a teenager\")"
   ]
  },
  {
   "cell_type": "markdown",
   "id": "71c16236",
   "metadata": {},
   "source": [
    "16. Develop a program that determines the type of angle based on its measure (acute, obtuse, or right)."
   ]
  },
  {
   "cell_type": "code",
   "execution_count": 52,
   "id": "f1b29054",
   "metadata": {},
   "outputs": [
    {
     "name": "stdout",
     "output_type": "stream",
     "text": [
      "The angle with measure 365.0 degrees is a Invalid angle measure.\n"
     ]
    }
   ],
   "source": [
    "def angel_type(measure):\n",
    "    if measure > 0:\n",
    "        if measure <90:\n",
    "            return \"Acute angle\"\n",
    "        elif measure ==90:\n",
    "            return \"Right angle\"\n",
    "        elif measure > 90 and measure < 180:\n",
    "            return \"Obtuse angle\"\n",
    "        elif measure==180:\n",
    "            return \"Straight angle\"\n",
    "        elif 180 > measure < 360:\n",
    "            return \"Reflex angle\"\n",
    "        else:\n",
    "            if measure==360:\n",
    "                return \"Complete angle\"\n",
    "        return \"Invalid angle measure\"\n",
    "    \n",
    "    \n",
    "try:\n",
    "    angle_measure=float(input(\"Enter the measure of the angle in degrees: \"))\n",
    "    angle=angel_type(angle_measure)\n",
    "    print(f\"The angle with measure {angle_measure} degrees is a {angle}.\")\n",
    "except ValueError:\n",
    "    print(\"Invalid input! Please enter a valid numeric angle measure.\")"
   ]
  },
  {
   "cell_type": "markdown",
   "id": "746c04cb",
   "metadata": {},
   "source": [
    "17. Write a Python program to calculate the roots of a quadratic equation."
   ]
  },
  {
   "cell_type": "code",
   "execution_count": 32,
   "id": "f8dc731a",
   "metadata": {},
   "outputs": [
    {
     "name": "stdout",
     "output_type": "stream",
     "text": [
      "The roots of the quadratic equation are real numbers:\n",
      "Root 1: -0.30026459656834925\n",
      "Root 2: -1.8117354034316508\n"
     ]
    }
   ],
   "source": [
    "import math\n",
    "\n",
    "def calculate_roots(a, b, c):\n",
    "    discriminante = b**2 - 4*a*c\n",
    "\n",
    "    if discriminante > 0:\n",
    "        root1=(-b + math.sqrt(discriminante)) / (2*a)\n",
    "        root2=(-b - math.sqrt(discriminante)) / (2*a)\n",
    "        return root1,root2\n",
    "\n",
    "    elif discriminante == 0:\n",
    "        root = -b/(2*a)\n",
    "        return root,root\n",
    "\n",
    "    else:\n",
    "        real_part=-b/(2*a)\n",
    "        imaginary_part= math.sqrt(abs(discriminante))\n",
    "        root1= complex(real_part, imaginary_part)\n",
    "        root2= complex(real_part, -imaginary_part)\n",
    "        return root1,root2\n",
    "\n",
    "try:\n",
    "    a= float(input(\"Enter the coefficient 'a': \"))\n",
    "    b= float(input(\"Enter the coefficient 'b': \"))\n",
    "    c= float(input(\"Enter the coefficient 'c': \"))\n",
    "\n",
    "    root1,root2 = calculate_roots(a, b, c)\n",
    "    \n",
    "    if root1.imag != 0 or root2.imag != 0:\n",
    "        print(\"The roots of the quadratic equation are real numbers:\")\n",
    "        print(\"Root 1:\",root1)\n",
    "        print(\"Root 2:\",root2) \n",
    "    else:\n",
    "        print(\"The roots of the quadratic equation are real numbers:\")\n",
    "        print(\"Root 1:\",root1)\n",
    "        print(\"Root 2:\",root2)\n",
    "except ValueError:\n",
    "    print(\"Invalid input! Please enter valid numeric coefficients.\")\n"
   ]
  },
  {
   "cell_type": "markdown",
   "id": "64120311",
   "metadata": {},
   "source": [
    "18. Implement a program to determine the day of the week based on a user-provided number (1 for Monday, 2 \n",
    "for Tuesday, etc.)."
   ]
  },
  {
   "cell_type": "code",
   "execution_count": 4,
   "id": "b2409990",
   "metadata": {},
   "outputs": [
    {
     "name": "stdout",
     "output_type": "stream",
     "text": [
      "The day corresponding to number 7 is:Sunday\n"
     ]
    }
   ],
   "source": [
    "def get_day_of_week(day_number):\n",
    "    days_of_week=[\"Monday\", \"Tuesday\", \"Wednesday\", \"Thursday\", \"Friday\", \"Saturday\", \"Sunday\"]\n",
    "    if 1<=day_number<=7:\n",
    "        return days_of_week[day_number-1]\n",
    "    else:\n",
    "        return \"Invalid day Number\"\n",
    "    \n",
    "try:\n",
    "    day_number = int(input(\"Enter a number (1-7) to represent the day of the week: \"))\n",
    "    day=get_day_of_week(day_number)\n",
    "    print(f\"The day corresponding to number {day_number} is:{day}\")\n",
    "except ValueError:\n",
    "    print(\"Invalid input! Please enter a valid numeric day number.\")"
   ]
  },
  {
   "cell_type": "markdown",
   "id": "ff6c6473",
   "metadata": {},
   "source": [
    "19. Create a program that determines if a year is a leap year and also if it is evenly divisible by 400."
   ]
  },
  {
   "cell_type": "code",
   "execution_count": 5,
   "id": "527e324f",
   "metadata": {},
   "outputs": [
    {
     "name": "stdout",
     "output_type": "stream",
     "text": [
      "1920 is a leap year.\n"
     ]
    }
   ],
   "source": [
    "def is_leap_year(year):\n",
    "    if year % 400 ==0:\n",
    "        return True\n",
    "    elif year % 100==0:\n",
    "        return False\n",
    "    elif year % 4==0:\n",
    "        return True\n",
    "    else:\n",
    "        return False\n",
    "\n",
    "try:\n",
    "    year=int(input(\"Enter a year:\"))\n",
    "    if is_leap_year(year):\n",
    "        print(year,\"is a leap year.\")\n",
    "    else:\n",
    "        print(year,\"is  not a leap year.\")\n",
    "except ValueError:\n",
    "    print(\"Invalid input! Please enter a valid numeric year.\")"
   ]
  },
  {
   "cell_type": "markdown",
   "id": "10a67f02",
   "metadata": {},
   "source": [
    "20. Develop a program that checks if a given number is prime or not using nested if-else statements."
   ]
  },
  {
   "cell_type": "code",
   "execution_count": 8,
   "id": "7a9eb473",
   "metadata": {},
   "outputs": [
    {
     "name": "stdout",
     "output_type": "stream",
     "text": [
      "8 is  not a PRIME number.\n"
     ]
    }
   ],
   "source": [
    "def is_prime(number):\n",
    "    if number <=1:\n",
    "        return False\n",
    "    elif number==2:\n",
    "        return True\n",
    "    else:\n",
    "        for i in range(2,int(number**0.5)+1):\n",
    "            if number % i==0:\n",
    "                return False\n",
    "        return True\n",
    "    \n",
    "try:\n",
    "    num=int(input(\"Enter a number to check if it's prime: \"))\n",
    "    if is_prime(num):\n",
    "         print(num,\"is a PRIME number.\")\n",
    "    else:\n",
    "        print(num,\"is  not a PRIME number.\")\n",
    "except ValueError:\n",
    "    print(\"Invalid input! Please enter a valid numeric number.\")"
   ]
  },
  {
   "cell_type": "markdown",
   "id": "2f4bde7e",
   "metadata": {},
   "source": [
    "# Elif Statements:"
   ]
  },
  {
   "cell_type": "markdown",
   "id": "a2f0fe24",
   "metadata": {},
   "source": [
    "21. Write a Python program to assign grades based on different ranges of scores using elif statements."
   ]
  },
  {
   "cell_type": "code",
   "execution_count": 4,
   "id": "a4a4b08b",
   "metadata": {},
   "outputs": [
    {
     "name": "stdout",
     "output_type": "stream",
     "text": [
      "The student's gread is: A2\n"
     ]
    }
   ],
   "source": [
    "def assign_grade(score):\n",
    "    if 90<= score <=100:\n",
    "        return \"A1\"\n",
    "    elif 80<= score <=90:\n",
    "        return \"A2\"\n",
    "    elif 70<= score <=80:\n",
    "        return \"B1\"\n",
    "    elif 60<= score <=70:\n",
    "        return \"B2\"\n",
    "    elif 50<= score <=60:\n",
    "        return \"C1\"\n",
    "    elif 40<= score <=50:\n",
    "        return \"C2\"\n",
    "    elif 33<= score <=40:\n",
    "        return \"D\"\n",
    "    elif 0<= score <= 32:\n",
    "        return \"Fail\"\n",
    "    else:\n",
    "        return \"Invalid Score\"\n",
    "    \n",
    "try:\n",
    "    score=float(input(\"Enter the student's score\"))\n",
    "    grade= assign_grade(score)\n",
    "    print(\"The student's gread is:\",grade)\n",
    "except ValueError:\n",
    "    print(\"Invalid input! Please enter a valid numeric score.\")"
   ]
  },
  {
   "cell_type": "markdown",
   "id": "fbd65972",
   "metadata": {},
   "source": [
    "22. Implement a program to determine the type of a triangle based on its angles."
   ]
  },
  {
   "cell_type": "code",
   "execution_count": 8,
   "id": "9f151ae3",
   "metadata": {},
   "outputs": [
    {
     "name": "stdout",
     "output_type": "stream",
     "text": [
      "The triangel is a Equilateral Triangle\n"
     ]
    }
   ],
   "source": [
    "def type_of_triangle(angle1,angle2,angle3):\n",
    "    if angle1==angle2==angle3==60:\n",
    "        return \"Equilateral Triangle\"\n",
    "    elif angle1==angle2 or angle1==angle3 or angle2==angle3:\n",
    "        return \"Isosceles Triangle\"\n",
    "    else:\n",
    "        return \"Scalene Triangle\" \n",
    "    \n",
    "try:\n",
    "    angle1=float(input(\"Enter the measure of angle 1: \"))\n",
    "    angle2=float(input(\"Enter the measure of angle 1: \"))\n",
    "    angle3=float(input(\"Enter the measure of angle 1: \"))\n",
    "\n",
    "    total_angle= angle1 + angle2 + angle3\n",
    "    if total_angle==180:\n",
    "        triangle=type_of_triangle(angle1, angle2, angle3)\n",
    "        print(\"The triangel is a\",triangle)\n",
    "    else:\n",
    "         print(\"Invalid triangle! The sum of angles should be 180 degrees.\")\n",
    "except ValueError:\n",
    "    print(\"Invalid input! Please enter valid numeric angle measures.\")"
   ]
  },
  {
   "cell_type": "markdown",
   "id": "9474a3f7",
   "metadata": {},
   "source": [
    "23. Develop a program to categorize a given person's BMI into underweight, normal, overweight, or obese using \n",
    "elif statements."
   ]
  },
  {
   "cell_type": "code",
   "execution_count": 3,
   "id": "279287fd",
   "metadata": {},
   "outputs": [
    {
     "name": "stdout",
     "output_type": "stream",
     "text": [
      "Your BMI is: 1.4863258026159334\n",
      "You are categorized as: Underweight\n"
     ]
    }
   ],
   "source": [
    "def calculate_bmi(weight,height):\n",
    "        return weight/(height**2)\n",
    "\n",
    "def catagorize_bmi(bmi):\n",
    "    if bmi<18.5:\n",
    "          return \"Underweight\"\n",
    "    elif 18.5 <= bmi < 25:\n",
    "          return \"Normal\"\n",
    "    elif 25 <= bmi < 30:\n",
    "        return \"Overweight\"\n",
    "    else:\n",
    "          return \"Obses\"\n",
    "    \n",
    "try:\n",
    "      weight=float(input(\"Enter your weight in kilograms: \"))\n",
    "      height=float(input(\"Enter your height in meters: \"))\n",
    "\n",
    "      bmi=calculate_bmi(weight, height)\n",
    "      catagory=catagorize_bmi(bmi)\n",
    "      print(\"Your BMI is:\", bmi)\n",
    "      print(\"You are categorized as:\", catagory)\n",
    "except ValueError:\n",
    "       print(\"Invalid input! Please enter valid numeric values for weight and height.\")\n"
   ]
  },
  {
   "cell_type": "markdown",
   "id": "90c235d3",
   "metadata": {},
   "source": [
    "24. Create a program that determines whether a given number is positive, negative, or zero using elif \n",
    "statements."
   ]
  },
  {
   "cell_type": "code",
   "execution_count": 4,
   "id": "8b316878",
   "metadata": {},
   "outputs": [
    {
     "name": "stdout",
     "output_type": "stream",
     "text": [
      "The number 55.0 is Positive\n"
     ]
    }
   ],
   "source": [
    "def determine_number_type(number):\n",
    "    if number > 0:\n",
    "        return \"Positive\"\n",
    "    elif number < 0:\n",
    "        return \"Negative\"\n",
    "    else:\n",
    "        return \"Zero\"\n",
    "    \n",
    "try:\n",
    "    num=float(input(\"Enter a number:\"))\n",
    "    number_type=determine_number_type(num)\n",
    "    print(f\"The number {num} is {number_type}\")\n",
    "except ValueError:\n",
    "     print(\"Invalid input! Please enter a valid numeric value.\")"
   ]
  },
  {
   "cell_type": "markdown",
   "id": "edbaaeb5",
   "metadata": {},
   "source": [
    "25. Write a Python script to determine the type of a character (uppercase, lowercase, or special) using elif \n",
    "statements."
   ]
  },
  {
   "cell_type": "code",
   "execution_count": 7,
   "id": "324cf046",
   "metadata": {},
   "outputs": [
    {
     "name": "stdout",
     "output_type": "stream",
     "text": [
      "The character @ is Special character\n"
     ]
    }
   ],
   "source": [
    "def determine_char_type(char):\n",
    "    if char.isupper():\n",
    "        return \"Uppercase\"\n",
    "    elif char.islower():\n",
    "        return \"Lowercase\"\n",
    "    elif not char.isalpha():\n",
    "        return \"Special character\"\n",
    "    else:\n",
    "        return \"Unknown\"\n",
    "    \n",
    "try:\n",
    "    character=input(\"Enter a character: \")\n",
    "    char_type=determine_char_type(character)\n",
    "    print(f\"The character {character} is {char_type}\")\n",
    "except ValueError:\n",
    "    print(\"Invalid input! Please enter a valid character\")"
   ]
  },
  {
   "cell_type": "markdown",
   "id": "60a03de9",
   "metadata": {},
   "source": [
    "26. Implement a program to calculate the discounted price based on different purchase amounts using elif \n",
    "statements."
   ]
  },
  {
   "cell_type": "code",
   "execution_count": 8,
   "id": "79376aea",
   "metadata": {},
   "outputs": [
    {
     "name": "stdout",
     "output_type": "stream",
     "text": [
      "The discounted price for a purpurchase of INR 5000.0, Is: INR 3500.0\n"
     ]
    }
   ],
   "source": [
    "def cal_discounted_price(amount):\n",
    "    if amount < 100:\n",
    "        discount=0\n",
    "    elif amount < 500:\n",
    "        discount=10\n",
    "    elif amount < 1000:\n",
    "        discount=20\n",
    "    else:\n",
    "        discount=30\n",
    "    discounted_price= amount - (amount * discount/100)\n",
    "    return discounted_price\n",
    "try:\n",
    "    purchase_amount=float(input(\"Enter the purchase amount: INR\"))\n",
    "    discounted_price=cal_discounted_price(purchase_amount)\n",
    "    print(f\"The discounted price for a purpurchase of INR {purchase_amount}, Is: INR {discounted_price}\")\n",
    "except ValueError:\n",
    "    print(\"Invalid input! Please enter a valid numeric purchase amount.\")"
   ]
  },
  {
   "cell_type": "markdown",
   "id": "a1a30079",
   "metadata": {},
   "source": [
    "27. Develop a program to calculate the electricity bill based on different consumption slabs using elif \n",
    "statements."
   ]
  },
  {
   "cell_type": "code",
   "execution_count": 10,
   "id": "aa5cb5b6",
   "metadata": {},
   "outputs": [
    {
     "name": "stdout",
     "output_type": "stream",
     "text": [
      "The electricity bill for consumig  500.0, Is: INR 2537.5\n"
     ]
    }
   ],
   "source": [
    "def cal_electric_bill(units):\n",
    "    if units <=50:\n",
    "        bill=units *2.00\n",
    "    elif units <=100:\n",
    "        bill=50* 2.00+(units-50)*4\n",
    "    elif units <=150:\n",
    "        bill=50 * 2.00 + 100 * 2.50 + (units - 150) * 2.75\n",
    "    else:\n",
    "        bill = 50 * 2.00 + 100 * 2.50 + 150 * 2.75 + (units - 250) * 7.10\n",
    "    return bill\n",
    "\n",
    "try:\n",
    "    unit_consumed= float(input(\"Enter the number of units consumed: \"))\n",
    "    total_bill=cal_electric_bill(unit_consumed)\n",
    "    print(f\"The electricity bill for consumig  {unit_consumed}, Is: INR {total_bill}\")\n",
    "except ValueError:\n",
    "    print(\"Invalid input! Please enter a valid numeric value for units consumed.\")"
   ]
  },
  {
   "cell_type": "markdown",
   "id": "865353f2",
   "metadata": {},
   "source": [
    "28. Create a program to determine the type of quadrilateral based on its angles and sides using elif \n",
    "statements."
   ]
  },
  {
   "cell_type": "code",
   "execution_count": 7,
   "id": "fa15b9a3",
   "metadata": {},
   "outputs": [
    {
     "name": "stdout",
     "output_type": "stream",
     "text": [
      "Invalid input! Please enter valid numeric values for sides and angles.\n"
     ]
    }
   ],
   "source": [
    "def quadilatral_type(sides,angles):\n",
    "    num_equal_sides=len(set(sides))\n",
    "\n",
    "    if num_equal_sides==1:\n",
    "        if len(set(angles))==1:\n",
    "            return \"Square\" if sides[0]==angles[0]==90 else \"Rombus\"\n",
    "        else:\n",
    "            return \"Equilateral Quadrilateral\"\n",
    "    elif num_equal_sides==2:\n",
    "        if len(set(angles))==1:\n",
    "            return \"Rectangle\" if sides[0]==sides[1]==angles[0]==angles[1] else \"Parallelogram\"\n",
    "        else:\n",
    "            return \"Isosceles  Trapezoid\"\n",
    "    elif num_equal_sides==3:\n",
    "        return \"Equilateral Trapezoid\"\n",
    "    else:\n",
    "        return \"Irregular Quadrilateral\"\n",
    "\n",
    "try:\n",
    "    sides=list(map(float,input(\"Enter the length of the sides of the quadilatral separated by space\").split()))\n",
    "    angles=list(map(float,input(\"Enter the measures of the angle of the quadilatral separated by space \").split()))\n",
    "    type_of_quadilatral=quadilatral_type(sides,angles)\n",
    "    print(\"The quadrilateral is:\", type_of_quadilatral)\n",
    "except ValueError:\n",
    "    print(\"Invalid input! Please enter valid numeric values for sides and angles.\")\n"
   ]
  },
  {
   "cell_type": "markdown",
   "id": "5f5fa3b9",
   "metadata": {},
   "source": [
    "29. Write a Python script to determine the season based on a user-provided month using elif statements."
   ]
  },
  {
   "cell_type": "code",
   "execution_count": 8,
   "id": "c79bb03e",
   "metadata": {},
   "outputs": [
    {
     "name": "stdout",
     "output_type": "stream",
     "text": [
      "The season for month 5 is: Spring\n"
     ]
    }
   ],
   "source": [
    "def determine_season(month):\n",
    "    if month in (3,4,5):\n",
    "        return \"Spring\"\n",
    "    elif month in (6,7,8):\n",
    "        return \"Summer\"\n",
    "    elif month in (9,10,11):\n",
    "        return \"Autumn\"\n",
    "    elif month in (12,1,2):\n",
    "        return \"Winter\"\n",
    "    else:\n",
    "        return \"Invalid month\"\n",
    "try:\n",
    "    month=int(input(\"Enter the Month(1-12):\"))\n",
    "    season=determine_season(month)\n",
    "    print(f\"The season for month {month} is: {season}\")\n",
    "except ValueError:\n",
    "    print(\"Invalid input! Please enter a valid numeric month.\")"
   ]
  },
  {
   "cell_type": "markdown",
   "id": "2b2359f6",
   "metadata": {},
   "source": [
    "30. Implement a program to determine the type of a year (leap or common) and month (30 or 31 days) using \n",
    "elif statements"
   ]
  },
  {
   "cell_type": "code",
   "execution_count": 19,
   "id": "2be390cf",
   "metadata": {},
   "outputs": [
    {
     "name": "stdout",
     "output_type": "stream",
     "text": [
      "The year 2020 is a Leap Year\n",
      "The month 12 has 31 days\n"
     ]
    }
   ],
   "source": [
    "def year_type(year):\n",
    "    if (year % 4==0 and year % 100!=0) or (year % 400==0):\n",
    "        return \"Leap Year\"\n",
    "    else:\n",
    "        return \"Common Year\"\n",
    "    \n",
    "def days_in_month(month,year):\n",
    "    if month in (1,3,5,7,8,10,12):\n",
    "        return 31\n",
    "    elif month==2:\n",
    "        return 29 if year_type(year)== \"Leap Year\" else 28\n",
    "    elif month in (4,6,9,11):\n",
    "        return 30\n",
    "    else:\n",
    "        return \"Invalid month\"\n",
    "    \n",
    "try:\n",
    "    year=int(input(\"Enter the year: \"))\n",
    "    month=int(input(\"Enter the month (1-12): \"))\n",
    "\n",
    "    yeartype=year_type(year)\n",
    "    monthtype=days_in_month(month,year)\n",
    "\n",
    "    print(f\"The year {year} is a {yeartype}\")\n",
    "    print(f\"The month {month} has {monthtype} days\")\n",
    "except ValueError:\n",
    "    print(\"Invalid input! Please enter valid numeric values for year and month.\")\n"
   ]
  },
  {
   "cell_type": "markdown",
   "id": "b69c0082",
   "metadata": {},
   "source": [
    "#  Basic Level:"
   ]
  },
  {
   "cell_type": "markdown",
   "id": "3a8b3773",
   "metadata": {},
   "source": [
    "1. Write a Python program that checks if a given number is positive, negative, or zero."
   ]
  },
  {
   "cell_type": "code",
   "execution_count": 8,
   "id": "652791ac",
   "metadata": {},
   "outputs": [
    {
     "name": "stdout",
     "output_type": "stream",
     "text": [
      "The number 0 is Given number is Zero\n"
     ]
    }
   ],
   "source": [
    "def check_number(number):\n",
    "    if number>0:\n",
    "        return \"Given number is Positive\"\n",
    "    elif number<0:\n",
    "        return \"Given number is Negative\"\n",
    "    elif number==0:\n",
    "        return \"Given number is Zero\"\n",
    "    else:\n",
    "        return \"Invalid\"\n",
    "    \n",
    "try:\n",
    "    num=int(input(\"Enter the Number\"))\n",
    "    result=check_number(num)\n",
    "    print(f\"The number {num} is {result}\")\n",
    "except ValueError:\n",
    "    print(\"Invalid input! Please enter a valid numeric values.\")"
   ]
  },
  {
   "cell_type": "markdown",
   "id": "e5500fc2",
   "metadata": {},
   "source": [
    "2. Create a program to determine if a person is eligible to vote based on their age."
   ]
  },
  {
   "cell_type": "code",
   "execution_count": 17,
   "id": "195847bd",
   "metadata": {},
   "outputs": [
    {
     "name": "stdout",
     "output_type": "stream",
     "text": [
      "You are -5.0 year old, Invalid Value\n"
     ]
    }
   ],
   "source": [
    "def right_to_vote(age):\n",
    "    if age>=18:\n",
    "        return \"You are eligible to vote!\"\n",
    "    elif 0==age<18:\n",
    "        return \"Sorry! You are under age not eligible to vote yet \"\n",
    "    else:\n",
    "        return \"Invalid Value\"\n",
    "try:\n",
    "    age=float(input(\"Please enter your age to comfirm to eligiblety for voteing rights\"))\n",
    "    check=right_to_vote(age)\n",
    "    print(f\"You are {age} year old, {check}\")\n",
    "except ValueError:\n",
    "    print(\"Invalid input! Please enter a valid numeric values.\")"
   ]
  },
  {
   "cell_type": "markdown",
   "id": "83458998",
   "metadata": {},
   "source": [
    "3. Write a program to find the maximum of two given numbers using conditional statements."
   ]
  },
  {
   "cell_type": "code",
   "execution_count": 2,
   "id": "6833ba32",
   "metadata": {},
   "outputs": [
    {
     "name": "stdout",
     "output_type": "stream",
     "text": [
      "The maximum of 22.0 and 24.0 is: 24.0\n"
     ]
    }
   ],
   "source": [
    "def find_maximum(num1,num2):\n",
    "    if num1 > num2:\n",
    "        return num1\n",
    "    else:\n",
    "        return num2\n",
    "    \n",
    "try:\n",
    "    num1= float(input(\"Enter the first number: \"))\n",
    "    num2= float(input(\"Enter the second number:\"))\n",
    "\n",
    "    maximum=find_maximum(num1,num2)\n",
    "    print(f\"The maximum of {num1} and {num2} is: {maximum}\")\n",
    "except ValueError:\n",
    "    print(\"Invalid input! Please enter valid numeric values for numbers.\")"
   ]
  },
  {
   "cell_type": "markdown",
   "id": "e6dbc40a",
   "metadata": {},
   "source": [
    "4. Develop a program that calculates the grade of a student based on their exam score."
   ]
  },
  {
   "cell_type": "code",
   "execution_count": 4,
   "id": "40d87d33",
   "metadata": {},
   "outputs": [
    {
     "name": "stdout",
     "output_type": "stream",
     "text": [
      "The grade for the exam score 86.0 is: B\n"
     ]
    }
   ],
   "source": [
    "def calculate_gread(score):\n",
    "    if score>=90:\n",
    "        return \"A\"\n",
    "    elif score>=80:\n",
    "        return \"B\"\n",
    "    elif score>=70:\n",
    "        return \"C\"\n",
    "    elif score>=60:\n",
    "        return \"D\"\n",
    "    else:\n",
    "        return \"F\"\n",
    "    \n",
    "try:\n",
    "    score=float(input(\"Enter the exam score:\"))\n",
    "    grade=calculate_gread(score)\n",
    "    print(f\"The grade for the exam score {score} is: {grade}\")\n",
    "except ValueError:\n",
    "    print(\"Invalid input! Please enter a valid numeric score.\")"
   ]
  },
  {
   "cell_type": "markdown",
   "id": "d8a48872",
   "metadata": {},
   "source": [
    "5. Create a program that checks if a year is a leap year or not."
   ]
  },
  {
   "cell_type": "code",
   "execution_count": 1,
   "id": "6763c891",
   "metadata": {},
   "outputs": [
    {
     "name": "stdout",
     "output_type": "stream",
     "text": [
      "2024 is a leap year.\n"
     ]
    }
   ],
   "source": [
    "def leap_year(year):\n",
    "    if (year % 4==0 and year % 100!=0) or (year % 400==0):\n",
    "        return True\n",
    "    else:\n",
    "        return False\n",
    "try:\n",
    "    year=int(input(\"Enter the year\"))\n",
    "    if leap_year(year):\n",
    "        print(year, \"is a leap year.\")\n",
    "    else:\n",
    "        print(year, \"is not a leap year.\")\n",
    "except ValueError:\n",
    "    print(\"Invalid input! Please enter a valid numeric year.\")"
   ]
  },
  {
   "cell_type": "markdown",
   "id": "b6bb9c9c",
   "metadata": {},
   "source": [
    "6. Write a program to classify a triangle based on its sides' lengths."
   ]
  },
  {
   "cell_type": "code",
   "execution_count": 4,
   "id": "f7afe0ef",
   "metadata": {},
   "outputs": [
    {
     "name": "stdout",
     "output_type": "stream",
     "text": [
      "The triangle with sides20.0, 21.0 and 22.0 is: Scalene Triangle\n"
     ]
    }
   ],
   "source": [
    "def classify_a_triangle(side1,side2,side3):\n",
    "    if side1==side2==side3:\n",
    "        return \"Equilateral Triangle\"\n",
    "    elif side1==side2 or side1==side3 or side2==side3:\n",
    "        return \"Isosceles  Triangle\"\n",
    "    else:\n",
    "        return \"Scalene Triangle\"\n",
    "try:\n",
    "    side1=float(input(\"Enter the length of side 1: \"))\n",
    "    side2=float(input(\"Enter the length of side 2: \"))\n",
    "    side3=float(input(\"Enter the length of side 3: \"))\n",
    "    triangel_type=classify_a_triangle(side1,side2,side3)\n",
    "    print(f\"The triangle with sides{side1}, {side2} and {side3} is: {triangel_type}\")\n",
    "except ValueError:\n",
    "    print(\"Invalid input! Please enter valid numeric values for side lengths.\")"
   ]
  },
  {
   "cell_type": "markdown",
   "id": "8d674151",
   "metadata": {},
   "source": [
    "7. Build a program that determines the largest of three given numbers."
   ]
  },
  {
   "cell_type": "code",
   "execution_count": 6,
   "id": "1449e9ab",
   "metadata": {},
   "outputs": [
    {
     "name": "stdout",
     "output_type": "stream",
     "text": [
      "The largest of 10.0 , 11.0 and 12.0 is: 12.0\n"
     ]
    }
   ],
   "source": [
    "def find_largest(num1,num2,num3):\n",
    "    if num1>=num2 and num1>=num3:\n",
    "        return num1\n",
    "    elif num2>=num1 and num2 >= num3:\n",
    "        return num2\n",
    "    else:\n",
    "        return num3\n",
    "try:\n",
    "    num1=float(input(\"Enter the first number: \"))\n",
    "    num2=float(input(\"Enter the second number: \"))\n",
    "    num3=float(input(\"Enter the third  number: \"))\n",
    "\n",
    "    largest = find_largest(num1, num2, num3)\n",
    "    print(f\"The largest of {num1} , {num2} and {num3} is: {largest}\")\n",
    "except ValueError:\n",
    "    print(\"Invalid input! Please enter valid numeric values for numbers.\")"
   ]
  },
  {
   "cell_type": "markdown",
   "id": "c34ebf66",
   "metadata": {},
   "source": [
    "8. Develop a program that checks whether a character is a vowel or a consonant."
   ]
  },
  {
   "cell_type": "code",
   "execution_count": 2,
   "id": "0cd73054",
   "metadata": {},
   "outputs": [
    {
     "name": "stdout",
     "output_type": "stream",
     "text": [
      "The character 'Propaganda' is a 'Consonant'\n"
     ]
    }
   ],
   "source": [
    "def check_vowel_or_consonant(char):\n",
    "    vowel=\"aeiouAEIOU\"\n",
    "    if char.isalpha():\n",
    "        if char in vowel:\n",
    "            return \"Volwel\"\n",
    "        else:\n",
    "            return \"Consonant\"\n",
    "    else:\n",
    "        return \"Not a valid alphabet\"\n",
    "try:\n",
    "    character=input(\"Enter a character\")\n",
    "    result=check_vowel_or_consonant(character)\n",
    "    print(f\"The character '{character}' is a '{result}'\")\n",
    "except ValueError:\n",
    "    print(\"Invalid input! Please enter a single character.\")"
   ]
  },
  {
   "cell_type": "markdown",
   "id": "04fe7131",
   "metadata": {},
   "source": [
    "9. Create a program to calculate the total cost of a shopping cart based on discounts."
   ]
  },
  {
   "cell_type": "code",
   "execution_count": 3,
   "id": "e280cfe4",
   "metadata": {},
   "outputs": [
    {
     "name": "stdout",
     "output_type": "stream",
     "text": [
      "The total cost after applying a 40.0 % discount is: 4690.2\n"
     ]
    }
   ],
   "source": [
    "def calculate_total_cost(item_prices, discount_percentage):\n",
    "    total_cost=sum(item_prices)\n",
    "    discounted_amount=(discount_percentage/100)*total_cost\n",
    "    discounted_total_cost=total_cost-discounted_amount\n",
    "    return discounted_total_cost\n",
    "try:\n",
    "    num_items=int(input(\"Enter the number of items: \"))\n",
    "    item_prices=[]\n",
    "    for i in range(1,num_items+1):\n",
    "        price=float(input(f\"Enter the price of item {i}: \"))\n",
    "        item_prices.append(price)\n",
    "    discount_percentage=float(input(\"Enter the discount percentage: \"))\n",
    "    total_cost=calculate_total_cost(item_prices, discount_percentage)\n",
    "    print(f\"The total cost after applying a {discount_percentage} % discount is: {total_cost}\")\n",
    "except ValueError:\n",
    "    print(\"Invalid input! Please enter valid numeric values.\")"
   ]
  },
  {
   "cell_type": "markdown",
   "id": "f249f28a",
   "metadata": {},
   "source": [
    "10. Write a program that checks if a given number is even or odd."
   ]
  },
  {
   "cell_type": "code",
   "execution_count": 4,
   "id": "61d850d8",
   "metadata": {},
   "outputs": [
    {
     "name": "stdout",
     "output_type": "stream",
     "text": [
      "The number 55 is Odd\n"
     ]
    }
   ],
   "source": [
    "def check_even_or_odd(num):\n",
    "    if num % 2==0:\n",
    "        return \"Even\"\n",
    "    else:\n",
    "        return \"Odd\"\n",
    "try:\n",
    "    num=int(input(\"Enter a number: \"))\n",
    "    result=check_even_or_odd(num)\n",
    "    print(f\"The number {num} is {result}\")\n",
    "except ValueError:\n",
    "    print(\"Invalid input! Please enter a valid integer.\")"
   ]
  },
  {
   "cell_type": "markdown",
   "id": "18361ac9",
   "metadata": {},
   "source": [
    "# Intermediate Level:"
   ]
  },
  {
   "cell_type": "markdown",
   "id": "1a1370ba",
   "metadata": {},
   "source": [
    "11. Write a program that calculates the roots of a quadratic equation."
   ]
  },
  {
   "cell_type": "code",
   "execution_count": 30,
   "id": "177b72ca",
   "metadata": {},
   "outputs": [
    {
     "name": "stdout",
     "output_type": "stream",
     "text": [
      "The roots of the quadratic equation are: ((-1+1.4142135623730951j), (-1-1.4142135623730951j))\n"
     ]
    }
   ],
   "source": [
    "import math\n",
    "\n",
    "def calculates_roots(a,b,c):\n",
    "    discriminant=b**2 - 4*a*c\n",
    "\n",
    "    if discriminant > 0:\n",
    "        root1=(-b + math.sqrt(discriminant))/(2*a)\n",
    "        root2=(-b - math.sqrt(discriminant))/(2*a)\n",
    "        return root1, root2\n",
    "    elif discriminant==0:\n",
    "        root= -b/(2*a)\n",
    "        return root,root\n",
    "    else:\n",
    "        real_part=-b/(2*a)\n",
    "        imaginary_part=math.sqrt(abs(discriminant))/(2*a)\n",
    "        return complex(real_part, imaginary_part), complex(real_part, -imaginary_part)\n",
    "try:\n",
    "    a=float(input(\"Enter the coefficient 'a': \"))\n",
    "    b=float(input(\"Enter the coefficient 'b': \"))\n",
    "    c=float(input(\"Enter the constant term 'c': \"))\n",
    "\n",
    "    roots=calculates_roots(a,b,c)\n",
    "    print(\"The roots of the quadratic equation are:\", roots)\n",
    "except ValueError:\n",
    "    print(\"Invalid input! Please enter valid numeric values for coefficients and constant term.\")"
   ]
  },
  {
   "cell_type": "markdown",
   "id": "fd89a65d",
   "metadata": {},
   "source": [
    "12. Create a program that determines the day of the week based on the day number (1-7)."
   ]
  },
  {
   "cell_type": "code",
   "execution_count": 2,
   "id": "5adc79af",
   "metadata": {},
   "outputs": [
    {
     "name": "stdout",
     "output_type": "stream",
     "text": [
      "The day corresponding to day number 7 is: Sunday\n"
     ]
    }
   ],
   "source": [
    "def determines_day_week(day_num):\n",
    "    days_of_week=[\"Monday\", \"Tuesday\", \"Wednesday\", \"Thursday\", \"Friday\", \"Saturday\", \"Sunday\"]\n",
    "    if day_num>=1 and day_num <=7:\n",
    "        return days_of_week[day_num-1]\n",
    "    else:\n",
    "        return \"Invalid day number\"\n",
    "try:\n",
    "    day_number=int(input(\"Enter the day number (1-7): \"))\n",
    "    day_of_week = determines_day_week(day_number)\n",
    "    print(f\"The day corresponding to day number {day_number} is: {day_of_week}\")\n",
    "except ValueError:\n",
    "     print(\"Invalid input! Please enter a valid integer between 1 and 7.\")"
   ]
  },
  {
   "cell_type": "markdown",
   "id": "7535b561",
   "metadata": {},
   "source": [
    "13. Develop a program that calculates the factorial of a given number using recursion."
   ]
  },
  {
   "cell_type": "code",
   "execution_count": 4,
   "id": "53301d7f",
   "metadata": {},
   "outputs": [
    {
     "name": "stdout",
     "output_type": "stream",
     "text": [
      "Factorial of 5 is: 120\n"
     ]
    }
   ],
   "source": [
    "def factorial(n):\n",
    "    if n==0:\n",
    "        return 1\n",
    "    else:\n",
    "        return n*factorial(n-1)\n",
    "try:\n",
    "    num= int(input(\"Enter a number: \"))\n",
    "    if num < 0:\n",
    "        print(\"Factorial is not defined for negative numbers.\")\n",
    "    else:\n",
    "        result=factorial(num)\n",
    "        print(f\"Factorial of {num} is: {result}\")\n",
    "except ValueError:\n",
    "    print(\"Invalid input! Please enter a valid integer.\")"
   ]
  },
  {
   "cell_type": "markdown",
   "id": "87c7f0b8",
   "metadata": {},
   "source": [
    "14. Write a program to find the largest among three numbers without using the `max()` function."
   ]
  },
  {
   "cell_type": "code",
   "execution_count": 7,
   "id": "498d2d6a",
   "metadata": {},
   "outputs": [
    {
     "name": "stdout",
     "output_type": "stream",
     "text": [
      "The largest among 55.0, 56.0 and 32.0, is: 56.0\n"
     ]
    }
   ],
   "source": [
    "def find_lagest(num1,num2,num3):\n",
    "    if num1>=num2>=num3:\n",
    "        return num1\n",
    "    elif num2>=num1 and num2>=num3:\n",
    "        return num2\n",
    "    else:\n",
    "        return num3\n",
    "try:\n",
    "    num1=float(input(\"Enter the first number: \"))\n",
    "    num2=float(input(\"Enter the second number: \"))   \n",
    "    num3=float(input(\"Enter the third number: \")) \n",
    "\n",
    "    largest= find_lagest(num1,num2,num3)\n",
    "    print(f\"The largest among {num1}, {num2} and {num3}, is: {largest}\")\n",
    "except ValueError:\n",
    "    print(\"Invalid input! Please enter valid numeric values for numbers.\")"
   ]
  },
  {
   "cell_type": "markdown",
   "id": "b30cf3fc",
   "metadata": {},
   "source": [
    "15. Create a program that simulates a basic ATM transaction menu."
   ]
  },
  {
   "cell_type": "code",
   "execution_count": 12,
   "id": "3440a185",
   "metadata": {},
   "outputs": [
    {
     "name": "stdout",
     "output_type": "stream",
     "text": [
      "Welcome to the Our Bank ATM!\n",
      "1.Check Balance\n",
      "2.Deposit\n",
      "3.Withdraw\n",
      "4.Quit\n"
     ]
    },
    {
     "name": "stdout",
     "output_type": "stream",
     "text": [
      "Your current balance is: 1000\n",
      "Welcome to the Our Bank ATM!\n",
      "1.Check Balance\n",
      "2.Deposit\n",
      "3.Withdraw\n",
      "4.Quit\n",
      "Your current balance is: 1000\n",
      "Welcome to the Our Bank ATM!\n",
      "1.Check Balance\n",
      "2.Deposit\n",
      "3.Withdraw\n",
      "4.Quit\n",
      "Withdrawal successful. Your new balance is: 500.0\n",
      "Welcome to the Our Bank ATM!\n",
      "1.Check Balance\n",
      "2.Deposit\n",
      "3.Withdraw\n",
      "4.Quit\n",
      "Deposit successful. Your new balance is: 1500.0\n",
      "Welcome to the Our Bank ATM!\n",
      "1.Check Balance\n",
      "2.Deposit\n",
      "3.Withdraw\n",
      "4.Quit\n",
      "Thank you for using the ATM. Have a nice day!\n"
     ]
    }
   ],
   "source": [
    "def display_menu():\n",
    "    print(\"Welcome to the Our Bank ATM!\")\n",
    "    print(\"1.Check Balance\")\n",
    "    print(\"2.Deposit\")\n",
    "    print(\"3.Withdraw\")\n",
    "    print(\"4.Quit\")\n",
    "def check_balance(balance):\n",
    "    print(\"Your current balance is:\", balance)\n",
    "def deposit(balance,amount):\n",
    "    balance+=amount\n",
    "    print(\"Deposit successful. Your new balance is:\", balance)\n",
    "    return balance\n",
    "def withdraw(balance,amount):\n",
    "    if amount<=balance:\n",
    "        balance-=amount\n",
    "        print(\"Withdrawal successful. Your new balance is:\", balance)\n",
    "    else:\n",
    "        print(\"Insufficient funds. Your balance remains unchanged.\")\n",
    "    return balance\n",
    "balance=1000\n",
    "while True:\n",
    "    display_menu()\n",
    "    choice= input(\"Enter your choice (1/2/3/4): \")\n",
    "    if choice==\"1\":\n",
    "        check_balance(balance)\n",
    "    elif choice==\"2\":\n",
    "        amount=float(input(\"Enter the amount to deposit: \"))\n",
    "        balance=deposit(balance,amount)\n",
    "    elif choice == '3':\n",
    "        amount = float(input(\"Enter the amount to withdraw: \"))\n",
    "        balance = withdraw(balance, amount)\n",
    "    elif choice == '4':\n",
    "        print(\"Thank you for using the ATM. Have a nice day!\")\n",
    "        break\n",
    "    else:\n",
    "        print(\"Invalid choice. Please enter a valid option.\")"
   ]
  },
  {
   "cell_type": "markdown",
   "id": "49e4eb9b",
   "metadata": {},
   "source": [
    "16. Build a program that checks if a given string is a palindrome or not."
   ]
  },
  {
   "cell_type": "code",
   "execution_count": 11,
   "id": "583f4cae",
   "metadata": {},
   "outputs": [
    {
     "name": "stdout",
     "output_type": "stream",
     "text": [
      "The string is a palindrome\n"
     ]
    }
   ],
   "source": [
    "def is_palindrom(s):\n",
    "    s=''.join(char.lower()for char in s if char.isalnum())\n",
    "    return s==s[::-1]\n",
    "try:\n",
    "    string=input(\"Enter a string:\")\n",
    "    if is_palindrom(string):\n",
    "        print(\"The string is a palindrome\")\n",
    "    else:\n",
    "        print(\"The string is not a palindrome.\")\n",
    "except ValueError:\n",
    "    print(\"Invalid input! Please enter a valid string.\")"
   ]
  },
  {
   "cell_type": "markdown",
   "id": "f9fe4556",
   "metadata": {},
   "source": [
    "17. Write a program that calculates the average of a list of numbers, excluding the smallest and largest values."
   ]
  },
  {
   "cell_type": "code",
   "execution_count": 16,
   "id": "baa5f5bd",
   "metadata": {},
   "outputs": [
    {
     "name": "stdout",
     "output_type": "stream",
     "text": [
      "The average of the list, excluding the smallest and largest values, is: 5.923076923076923\n"
     ]
    }
   ],
   "source": [
    "def calculate_avg(num):\n",
    "    if len(num)<=2:\n",
    "        return \"Not enough elements in the list to calculate average.\"\n",
    "    num.sort()\n",
    "    num=num[1:-1]\n",
    "    avg=sum(num)/len(num)\n",
    "    return avg\n",
    "try:\n",
    "    num=[float(x) for x in input(\"Enter a list of numbers separated by space: \").split()]\n",
    "    avg=calculate_avg(num)\n",
    "    print(\"The average of the list, excluding the smallest and largest values, is:\", avg)\n",
    "except ValueError:\n",
    "    print(\"Invalid input! Please enter valid numeric values separated by space.\")\n"
   ]
  },
  {
   "cell_type": "markdown",
   "id": "a18929c1",
   "metadata": {},
   "source": [
    "18. Develop a program that converts a given temperature from Celsius to Fahrenheit."
   ]
  },
  {
   "cell_type": "code",
   "execution_count": 17,
   "id": "433a8030",
   "metadata": {},
   "outputs": [
    {
     "name": "stdout",
     "output_type": "stream",
     "text": [
      "Temperature in Fahrenheit: 86.53999999999999\n"
     ]
    }
   ],
   "source": [
    "def celsius_to_fahrenheit(celsius):\n",
    "    fahrenheit=(celsius*9/5)+32\n",
    "    return fahrenheit\n",
    "try:\n",
    "    celsius=float(input(\"Enter the temperature in Celsius: \"))\n",
    "    fahrenheit=celsius_to_fahrenheit(celsius)\n",
    "    print(\"Temperature in Fahrenheit:\", fahrenheit)\n",
    "except ValueError:\n",
    "    print(\"Invalid input! Please enter a valid numeric value for temperature.\")"
   ]
  },
  {
   "cell_type": "markdown",
   "id": "c87e58f0",
   "metadata": {},
   "source": [
    "19. Create a program that simulates a basic calculator for addition, subtraction, multiplication, and division."
   ]
  },
  {
   "cell_type": "code",
   "execution_count": 22,
   "id": "ea9f5545",
   "metadata": {},
   "outputs": [
    {
     "name": "stdout",
     "output_type": "stream",
     "text": [
      "Select operation:\n",
      "1.Addition\n",
      "2.Subtraction\n",
      "3.Multiplication\n",
      "4.Division\n",
      "5.Quit\n"
     ]
    },
    {
     "name": "stdout",
     "output_type": "stream",
     "text": [
      "Result: 0.8888888888888888\n",
      "Select operation:\n",
      "1.Addition\n",
      "2.Subtraction\n",
      "3.Multiplication\n",
      "4.Division\n",
      "5.Quit\n",
      "Result: Cannot divide by zero\n",
      "Select operation:\n",
      "1.Addition\n",
      "2.Subtraction\n",
      "3.Multiplication\n",
      "4.Division\n",
      "5.Quit\n",
      "Exiting the calculator. Thank you!\n"
     ]
    }
   ],
   "source": [
    "def add(num1,num2):\n",
    "    return num1+num2\n",
    "def subtract(num1,num2):\n",
    "    return num1-num2\n",
    "def multiply(num1,num2):\n",
    "    return num1*num2\n",
    "def divide(num1,num2):\n",
    "    if num2==0:\n",
    "        return \"Cannot divide by zero\"\n",
    "    else:\n",
    "        return num1/num2\n",
    "def display_menu():\n",
    "    print(\"Select operation:\")\n",
    "    print(\"1.Addition\")\n",
    "    print(\"2.Subtraction\")\n",
    "    print(\"3.Multiplication\")\n",
    "    print(\"4.Division\")\n",
    "    print(\"5.Quit\")\n",
    "while True:\n",
    "    display_menu()\n",
    "    choice=input(\"Enter your choice (1/2/3/4/5): \")\n",
    "    if choice==\"5\":\n",
    "        print(\"Exiting the calculator. Thank you!\")\n",
    "        break\n",
    "    try:\n",
    "        num1=float(input(\"Enter first number: \"))\n",
    "        num2=float(input(\"Enter second number: \"))\n",
    "    except ValueError:\n",
    "        print(\"Invalid input! Please enter valid numeric values.\")\n",
    "        continue\n",
    "    if choice == '1':\n",
    "        print(\"Result:\",add(num1,num2))\n",
    "    elif choice == '2':\n",
    "        print(\"Result:\",subtract(num1,num2))\n",
    "    elif choice == '3':\n",
    "        print(\"Result:\",multiply(num1,num2))\n",
    "    elif choice == '4':\n",
    "        print(\"Result:\",divide(num1,num2))\n",
    "    else:\n",
    "        print(\"Invalid choice. Please enter a valid option.\")"
   ]
  },
  {
   "cell_type": "markdown",
   "id": "a4f67e82",
   "metadata": {},
   "source": [
    "20. Write a program that determines the roots of a cubic equation using the Cardano formula."
   ]
  },
  {
   "cell_type": "code",
   "execution_count": 4,
   "id": "2ba43246",
   "metadata": {},
   "outputs": [
    {
     "name": "stdout",
     "output_type": "stream",
     "text": [
      "Roots of the cubic equation: (-0.06222482440599142+1.046923981016022j)\n"
     ]
    }
   ],
   "source": [
    "import math\n",
    "\n",
    "def cubic_roots(a,b,c,d):\n",
    "    p=(3*a*c-b**2)/(3*a**2)\n",
    "    q=(2*b**3-9*a*b*c+27*a**2*d)/(27*a**3)\n",
    "    delta=(q**2/4)+(p**3/27)\n",
    "    if delta>0:\n",
    "        u=(-q/2+math.sqrt(delta))**(1/3)\n",
    "        v=(-q/2-math.sqrt(delta))**(1/3)\n",
    "        root1 =u+v-b/(3*a)\n",
    "        return root1\n",
    "    elif delta==0:\n",
    "        root1=-q**(1/3)-b/(3*a)\n",
    "        root2=q**(1/3)-b/(3*a)\n",
    "    else:\n",
    "        phi=math.acos(-q/2*math.sqrt(-27/p**3))\n",
    "        root1=2*math.sqrt(-p/3)*math.cos(phi/3)-b/(3*a)\n",
    "        root2=2*math.sqrt(-p/3)*math.cos((phi+2*math.pi)/3)-b/(3*a)\n",
    "        root3=2*math.sqrt(-p/3)*math.cos((phi+4*math.pi)/3)-b/(3*a)\n",
    "        return root1,root2,root3\n",
    "try:\n",
    "    a=float(input(\"Enter coefficient 'a' for x^3 term: \"))\n",
    "    b=float(input(\"Enter coefficient 'b' for x^2 term: \"))\n",
    "    c=float(input(\"Enter coefficient 'c' for x term: \"))\n",
    "    d=float(input(\"Enter constant term 'd': \"))\n",
    "    roots = cubic_roots(a, b, c, d)\n",
    "    print(\"Roots of the cubic equation:\", roots)\n",
    "except ValueError:\n",
    "    print(\"Invalid input! Please enter valid numeric values for coefficients and constant term.\")"
   ]
  },
  {
   "cell_type": "markdown",
   "id": "b4eb0086",
   "metadata": {},
   "source": [
    "# Advanced Level:"
   ]
  },
  {
   "cell_type": "markdown",
   "id": "ac1a556a",
   "metadata": {},
   "source": [
    "21. Create a program that calculates the income tax based on the user's income and tax brackets."
   ]
  },
  {
   "cell_type": "code",
   "execution_count": 24,
   "id": "08c651b8",
   "metadata": {},
   "outputs": [
    {
     "name": "stdout",
     "output_type": "stream",
     "text": [
      "Income tax: 10800.0\n"
     ]
    }
   ],
   "source": [
    "def calculate_income_tax(income):\n",
    "    tax_brackets=[(0,1000,0.1),\n",
    "                  (10000,50000,0.2),\n",
    "                  (50000,100000,0.3),\n",
    "                  (100000,float('inf'),0.4)]\n",
    "    tax=0\n",
    "    remaining_income=income\n",
    "    for lower_limit,upper_limit, rate in tax_brackets:\n",
    "        if remaining_income <= 0:\n",
    "            break\n",
    "        taxable_amount=min(upper_limit-lower_limit,remaining_income)\n",
    "        tax+=taxable_amount*rate\n",
    "        remaining_income-=taxable_amount\n",
    "    return tax\n",
    "try:\n",
    "    income=float(input(\"Enter your income: \"))\n",
    "    tax=calculate_income_tax(income)\n",
    "    print(\"Income tax:\", tax)\n",
    "except ValueError:\n",
    "    print(\"Invalid input! Please enter a valid numeric value for income.\")"
   ]
  },
  {
   "cell_type": "markdown",
   "id": "d06613be",
   "metadata": {},
   "source": [
    "22. Write a program that simulates a rock-paper-scissors game against the computer."
   ]
  },
  {
   "cell_type": "code",
   "execution_count": 28,
   "id": "22b824e5",
   "metadata": {},
   "outputs": [
    {
     "name": "stdout",
     "output_type": "stream",
     "text": [
      "Your choice: None\n",
      "Computer's choice: rock\n",
      "Computer Wins!\n",
      "Thanks for playing!\n"
     ]
    }
   ],
   "source": [
    "import random\n",
    "def get_user_choice():\n",
    "    while True:\n",
    "        user_choice=input(\"Enter your choice (rock, paper, or scissors): \").lower()\n",
    "        if user_choice in ['rock','paper','scissors']:\n",
    "            return\n",
    "        else:\n",
    "            print(\"Invalid choice! Please enter rock, paper, or scissors.\")\n",
    "def get_computer_choice():\n",
    "    return random.choice(['rock','paper','scissors'])\n",
    "def determine_winner(user_choice, computer_choice):\n",
    "    if user_choice==computer_choice:\n",
    "        return \"It,s a tie\"\n",
    "    elif (user_choice == 'rock' and computer_choice == 'scissors') or\\\n",
    "         (user_choice == 'paper' and computer_choice == 'rock') or \\\n",
    "         (user_choice == 'scissors' and computer_choice == 'scissors'):\n",
    "        return \"You Win!\"\n",
    "    else:\n",
    "        return \"Computer Wins!\"\n",
    "while True:\n",
    "    user_choice=get_user_choice()\n",
    "    computer_choice=get_computer_choice()\n",
    "    print(\"Your choice:\", user_choice)\n",
    "    print(\"Computer's choice:\", computer_choice)\n",
    "    result=determine_winner(user_choice, computer_choice)\n",
    "    print(result)\n",
    "    play_again=input(\"Do you want to play again? (yes/no): \").lower()\n",
    "    if play_again != 'yes':\n",
    "        print(\"Thanks for playing!\")\n",
    "        break"
   ]
  },
  {
   "cell_type": "markdown",
   "id": "3d21cfa5",
   "metadata": {},
   "source": [
    "23. Develop a program that generates a random password based on user preferences (length, complexity)."
   ]
  },
  {
   "cell_type": "code",
   "execution_count": 25,
   "id": "2954e3b5",
   "metadata": {},
   "outputs": [
    {
     "name": "stdout",
     "output_type": "stream",
     "text": [
      "Invalid input! Please enter valid values for length and complexity.\n"
     ]
    }
   ],
   "source": [
    "import random\n",
    "def generate_password(length,complexity):\n",
    "    if complexity==\"low\":\n",
    "        characters=string.ascii_letters+string.digits\n",
    "    elif complexity==\"medium\":\n",
    "        characters = string.ascii_letters + string.digits + string.punctuation\n",
    "    elif complexity==\"high\":\n",
    "        characters = string.ascii_letters + string.digits + string.punctuation + string.ascii_uppcase+string.ascii_lowercase\n",
    "    else:\n",
    "        raise ValueError(\"Invalid complexity level. Choose from 'low', 'medium', or 'high'.\")\n",
    "    password=''.join(random.choice(characters)for _ in range(length))\n",
    "    return password\n",
    "try:\n",
    "    length = int(input(\"Enter the length of the password: \"))\n",
    "    complexity=input(\"Enter complexity level(low/midium/high):\").lower\n",
    "\n",
    "    password=generate_password(length,complexity)\n",
    "    print(\"Generated password:\", password)\n",
    "except ValueError:\n",
    "    print(\"Invalid input! Please enter valid values for length and complexity.\")\n",
    "except Exception as e:\n",
    "    print(\"An error occurred:\", str(e))"
   ]
  },
  {
   "cell_type": "markdown",
   "id": "b15e244a",
   "metadata": {},
   "source": [
    "24. Create a program that implements a simple text-based adventure game with branching scenarios."
   ]
  },
  {
   "cell_type": "code",
   "execution_count": 37,
   "id": "78fe5775",
   "metadata": {},
   "outputs": [
    {
     "name": "stdout",
     "output_type": "stream",
     "text": [
      "Welcome to the text adventure Game!\n",
      "You find yourself at a crossroads\n",
      "There are three paths ahead of you: a dark forest, a winding mountain trail, and a deserted road \n",
      "\n",
      " which path do you choose?\n",
      "\n",
      " You choice to take the winding mountain trail\n",
      "As you climb higher, the air becomes thinner and the path becomes steeper.\n",
      "Suddenly, you slip and fall down a steep slope!\n",
      "You manage to grab onto a ledge just in time.\n",
      "\n",
      "You decide to try and climb back up\n",
      "With great effort, you manage to climb back up to the trail.\n",
      "Congratulations! You survived the winding mountain trail.\n",
      "Thanks for playing!\n"
     ]
    }
   ],
   "source": [
    "import time\n",
    "def intro():\n",
    "    print(\"Welcome to the text adventure Game!\")\n",
    "    time.sleep(1)\n",
    "    print(\"You find yourself at a crossroads\")\n",
    "    time.sleep(1)\n",
    "    print(\"There are three paths ahead of you: a dark forest, a winding mountain trail, and a deserted road \")\n",
    "def forest():\n",
    "    print(\"You chose to enter the dark forest\")\n",
    "    time.sleep(1)\n",
    "    print(\"As you walk into the forest,you hear strange noices arround you\")\n",
    "    time.sleep(1)\n",
    "    print(\"Suddenly, you encounter a tiger blocking your path\")\n",
    "    time.sleep(1)\n",
    "    choice=input(\"What do you do? (fight/flee): \").lower()\n",
    "    if choice=='fight':\n",
    "        print(\"\\nYou decide to fight the tiger...\")\n",
    "        time.sleep(1)\n",
    "        print(\"Unfortunately, the tiger is too strong and you are defeated.\")\n",
    "        time.sleep(1)\n",
    "        print(\"Game over!\")\n",
    "    elif choice==\"flee\":\n",
    "        print(\"\\nYou decide to flee from the tiger...\")\n",
    "        time.sleep(1)\n",
    "        print(\"You manage to escape from the tiger and find your way out of the forest.\")\n",
    "        time.sleep(1)\n",
    "        print(\"Congratulations! You survived the dark forest.\")\n",
    "    else:\n",
    "        print(\"Invalid choice! Please enter 'fight' or 'flee'.\")\n",
    "def mountain():\n",
    "    print(\"\\n You choice to take the winding mountain trail\")\n",
    "    time.sleep(1)\n",
    "    print(\"As you climb higher, the air becomes thinner and the path becomes steeper.\")\n",
    "    time.sleep(1)\n",
    "    print(\"Suddenly, you slip and fall down a steep slope!\")\n",
    "    time.sleep(1)\n",
    "    print(\"You manage to grab onto a ledge just in time.\")\n",
    "    time.sleep(1)\n",
    "    choice=input(\"What do you do? (climb/wait): \").lower()\n",
    "    if choice==\"climb\":\n",
    "        print(\"\\nYou decide to try and climb back up\")\n",
    "        time.sleep(1)\n",
    "        print(\"With great effort, you manage to climb back up to the trail.\")\n",
    "        time.sleep(1)\n",
    "        print(\"Congratulations! You survived the winding mountain trail.\")\n",
    "    elif choice==\"Wait\":\n",
    "        print(\"n\\You decide to wait for help to arrive\")\n",
    "        time.sleep(1)\n",
    "        print(\"After a while, a group of hikers passes by and helps you back to safety.\")\n",
    "        time.sleep(1)\n",
    "        print(\"Congratulations! You survived the winding mountain trail.\")\n",
    "    else:\n",
    "        print(\"Invalid choice! Please enter 'climb' or 'wait'.\")\n",
    "def road():\n",
    "    print(\"\\nYou chose to follow the deserted road\")\n",
    "    time.sleep(1)\n",
    "    print(\"As you walk along the road, you come across an abandoned house.\")\n",
    "    time.sleep(1)\n",
    "    print(\"You enter the house and find a treasure chest!\")\n",
    "    time.sleep(1)\n",
    "    print(\"You open the cheast and find it filled with Gold Coins\")\n",
    "    time.sleep(1)\n",
    "    print(\"Congratulations! You found the hidden treasure.\")\n",
    "    time.sleep(1)\n",
    "    print(\"You dicide to retier and live a life of luxury\")\n",
    "    time.sleep(1)\n",
    "    print(\"You win!\")\n",
    "while True:\n",
    "    intro()\n",
    "    time.sleep(1)\n",
    "    print(\"\\n which path do you choose?\")\n",
    "    choice=input(\"Enter 'forest', 'mountain', or 'road': \").lower()\n",
    "    if choice== \"forest\":\n",
    "        forest()\n",
    "    elif choice==\"mountain\":\n",
    "        mountain()\n",
    "    elif choice == 'road':\n",
    "        road()\n",
    "    else:\n",
    "        print(\"Invalid choice! Please enter 'forest', 'mountain', or 'road'.\")\n",
    "    play_again=input(\"\\nDo you want to play again?(Yes/No):\").lower()\n",
    "    if play_again!=\"Yes\":\n",
    "        print(\"Thanks for playing!\")\n",
    "        break"
   ]
  },
  {
   "cell_type": "markdown",
   "id": "850bf84b",
   "metadata": {},
   "source": [
    "25. Build a program that solves a linear equation  for x, considering different cases."
   ]
  },
  {
   "cell_type": "code",
   "execution_count": 38,
   "id": "93d2f30d",
   "metadata": {},
   "outputs": [
    {
     "name": "stdout",
     "output_type": "stream",
     "text": [
      "The solution for the liner equation 8.0x+4.0=0 is x=-0.5\n"
     ]
    }
   ],
   "source": [
    "def solve_linear_equation(a,b):\n",
    "    if a==0:\n",
    "        if b==0:\n",
    "            return \"Infinite solutions (all real numbers)\"\n",
    "        else:\n",
    "            return \"No solution\"\n",
    "    else:\n",
    "        x=-b/a\n",
    "    return f\"The solution for the liner equation {a}x+{b}=0 is x={x}\"\n",
    "try:\n",
    "    a=float(input(\"Enter the coefficient 'a': \"))\n",
    "    b=float(input(\"Enter the coefficient 'b': \"))\n",
    "    solution = solve_linear_equation(a, b)\n",
    "    print(solution)\n",
    "except ValueError:\n",
    "    print(\"Invalid input! Please enter valid numeric values for coefficients.\")"
   ]
  },
  {
   "cell_type": "markdown",
   "id": "f5a2ca8b",
   "metadata": {},
   "source": [
    "26. Write a program that simulates a basic quiz game with multiple-choice questions and scoring."
   ]
  },
  {
   "cell_type": "code",
   "execution_count": 5,
   "id": "c6ad37ad",
   "metadata": {},
   "outputs": [
    {
     "name": "stdout",
     "output_type": "stream",
     "text": [
      "\n",
      "Welcome to the Quiz Game!\n",
      "\n",
      "----------------------------------\n",
      "What is the capital of India?\n",
      "1.Kolkata\n",
      "2.Delhi\n",
      "3.Gujrat\n",
      "4.Mumbai\n"
     ]
    },
    {
     "name": "stdout",
     "output_type": "stream",
     "text": [
      "Correct!\n",
      "\n",
      "----------------------------------\n",
      "which planet is known as the Red Planet?\n",
      "1.Jupiter\n",
      "2.Mars\n",
      "3.Venus\n",
      "4.Mercury\n",
      "Correct!\n",
      "\n",
      "----------------------------------\n",
      "Who wrote 'Romeo and Juliet'?\n",
      "1.William Shakespeare\n",
      "2.Charles Dickens\n",
      "3.Jane Austen\n",
      "4.Leo Tolstoy\n",
      "Correct!\n",
      "\n",
      "----------------------------------\n",
      "Quiz completed! Your score: 3\n",
      "Thanks for playing!\n"
     ]
    }
   ],
   "source": [
    "import random\n",
    "questions = {\n",
    "    \"What is the capital of India?\" : {\n",
    "        \"options\":[\"Kolkata\",\"Delhi\",\"Gujrat\",\"Mumbai\"],\n",
    "        \"answer\":\"Delhi\"\n",
    "    },\n",
    "    \"which planet is known as the Red Planet?\":{\n",
    "        \"options\":[\"Jupiter\",\"Mars\",\"Venus\",\"Mercury\"],\n",
    "        \"answer\":\"Mars\"\n",
    "    },\n",
    "    \"Who wrote 'Romeo and Juliet'?\": {\n",
    "        \"options\": [\"William Shakespeare\",\"Charles Dickens\",\"Jane Austen\",\"Leo Tolstoy\"],\n",
    "        \"answer\": \"William Shakespeare\"\n",
    "    }\n",
    "}\n",
    "def display_question(question,options):\n",
    "    print(question)\n",
    "    for i, options in enumerate(options,1):\n",
    "        print(f\"{i}.{options}\")\n",
    "def get_user_answer(options):\n",
    "    while True:\n",
    "        try:\n",
    "            choice=int(input(\"Enter your choice (1/2/3/4): \"))\n",
    "            if 1<= choice <=len(options):\n",
    "                return options[choice-1]\n",
    "            else:\n",
    "                print(\"Invalid choice! Please enter a number between 1 and\", len(options))\n",
    "        except ValueError:\n",
    "            print(\"Invalid input! Please enter a valid number.\")\n",
    "def play_quiz(questions):\n",
    "    score=0\n",
    "    for question, data in questions.items():\n",
    "        print(\"\\n----------------------------------\")\n",
    "        display_question(question, data[\"options\"])\n",
    "        user_answer = get_user_answer(data[\"options\"])\n",
    "        if user_answer==data[\"answer\"]:\n",
    "            print(\"Correct!\")\n",
    "            score+=1\n",
    "        else:\n",
    "            print(\"Incorrect!\")\n",
    "            print(\"Correct Answer:\", data[\"answer\"])\n",
    "    print(\"\\n----------------------------------\")\n",
    "    print(\"Quiz completed! Your score:\", score)\n",
    "while True:\n",
    "    print(\"\\nWelcome to the Quiz Game!\")\n",
    "    play_quiz(questions)\n",
    "    play_again=input(\"Do you want to play again? (yes/no): \").lower()\n",
    "    if play_again!='Yes':\n",
    "        print(\"Thanks for playing!\")\n",
    "        break"
   ]
  },
  {
   "cell_type": "markdown",
   "id": "e327a508",
   "metadata": {},
   "source": [
    "27. Develop a program that determines whether a given year is a prime number or not."
   ]
  },
  {
   "cell_type": "code",
   "execution_count": 11,
   "id": "c9cc3075",
   "metadata": {},
   "outputs": [
    {
     "name": "stdout",
     "output_type": "stream",
     "text": [
      "2025 is a prime number.\n"
     ]
    }
   ],
   "source": [
    "def is_prime(year):\n",
    "    if year<2:\n",
    "        return False\n",
    "    for i in range(2,int(year**0.5)+1):\n",
    "        if year%i==0:\n",
    "            return False\n",
    "        return True\n",
    "try:\n",
    "    year=int(input(\"Enter a year to check if it's prime: \"))\n",
    "    if is_prime(year):\n",
    "        print(year,\"is a prime number.\")\n",
    "    else:\n",
    "        print(year,\"is not a prime number\")\n",
    "except ValueError:\n",
    "    print(\"Invalid input! Please enter a valid integer.\")"
   ]
  },
  {
   "cell_type": "markdown",
   "id": "95bf604e",
   "metadata": {},
   "source": [
    "28. Create a program that sorts three numbers in ascending order using conditional statements."
   ]
  },
  {
   "cell_type": "code",
   "execution_count": 12,
   "id": "c9fb0809",
   "metadata": {},
   "outputs": [
    {
     "name": "stdout",
     "output_type": "stream",
     "text": [
      "Numbers in ascending order: (20.0, 40.0, 80.0)\n"
     ]
    }
   ],
   "source": [
    "def short_numbers(a,b,c):\n",
    "    if a <= b <= c:\n",
    "        return a,b,c\n",
    "    elif a <= c<= b:\n",
    "        return a,c,b\n",
    "    elif a <= c<= b:\n",
    "        return b,a,c\n",
    "    elif b <= c <=a:\n",
    "        return b,c,a\n",
    "    elif c<= a<= b:\n",
    "        return c,a,b\n",
    "    else:\n",
    "        return c,b,a\n",
    "try:\n",
    "    num1=float(input(\"Enter the first number: \"))\n",
    "    num2=float(input(\"Enter the second number: \"))\n",
    "    num3=float(input(\"Enter the third number: \"))\n",
    "    short_nums=short_numbers(num1,num2,num3)\n",
    "    print(\"Numbers in ascending order:\",short_nums)\n",
    "except ValueError:\n",
    "    print(\"Invalid input! Please enter valid numeric values for numbers.\")"
   ]
  },
  {
   "cell_type": "markdown",
   "id": "f8e30fbc",
   "metadata": {},
   "source": [
    "29. Build a program that determines the roots of a quartic equation using numerical methods."
   ]
  },
  {
   "cell_type": "code",
   "execution_count": 16,
   "id": "e5f291a5",
   "metadata": {},
   "outputs": [
    {
     "name": "stdout",
     "output_type": "stream",
     "text": [
      "Roots of the quartic equation: [0.9999999999999994, 1.0000000000000007, 0.9999999999999664, 1.0000000000000007, 1.0000000000000002, 1.0000000000000002, 0.9999999999999998, 1.0000000000000004, 0.9999999999999807, 1.0000000000000009, 1.0000000000000007, 1.0, 2.0, 3.0, 4.0, 3.9999999999999942, 4.000000000000011, 4.00000000000003, 4.000000000000011, 4.0, 3.999999999999986]\n"
     ]
    }
   ],
   "source": [
    "def quartic_equation(coefficients, x):\n",
    "    result=0\n",
    "    for i, coef in enumerate(coefficients[::-1]):\n",
    "        result+=coef*(x**i)\n",
    "    return result\n",
    "def quaratic_derivative(coefficients, x):\n",
    "    result=0\n",
    "    for i, coef in enumerate(coefficients[::-1][1:],1):\n",
    "        result+=i*coef*(x**(i-1))\n",
    "    return result\n",
    "def newton_raphson_quartic(coefficients,initial_guess,tolerance=1e-6,max_iteractions=1000):\n",
    "    x = initial_guess\n",
    "    for _ in range(max_iteractions):\n",
    "        f_x=quartic_equation(coefficients, x)\n",
    "        f_prime_x=quaratic_derivative(coefficients, x)\n",
    "        if abs(f_prime_x)<tolerance:\n",
    "            break\n",
    "        x-=f_x/f_prime_x\n",
    "        if abs(f_x)<tolerance:\n",
    "            break\n",
    "    return x\n",
    "try:\n",
    "    coefficients = [1, -10, 35, -50, 24]\n",
    "    roots=[]\n",
    "    for initial_guess in range(-10,11):\n",
    "        root=newton_raphson_quartic(coefficients, initial_guess)\n",
    "        if abs(quartic_equation(coefficients, root))<1e-6:\n",
    "            roots.append(root)\n",
    "    print(\"Roots of the quartic equation:\", roots)\n",
    "except ValueError:\n",
    "    print(\"Invalid input! Please enter valid numeric values for coefficients.\")"
   ]
  },
  {
   "cell_type": "markdown",
   "id": "507e74a1",
   "metadata": {},
   "source": [
    "30. Write a program that calculates the BMI (Body Mass Index) and provides health recommendations based \n",
    "on the user's input."
   ]
  },
  {
   "cell_type": "code",
   "execution_count": 20,
   "id": "70f53484",
   "metadata": {},
   "outputs": [
    {
     "name": "stdout",
     "output_type": "stream",
     "text": [
      "Yor BMI: 0.0034198556820902158\n",
      "Health recommendation: You are underweight. Consider increasing your calorie intake and/or consulting with a healthcare professional.\n"
     ]
    }
   ],
   "source": [
    "def calculate_bmi(weight, height):\n",
    "    \"\"\"\n",
    "    Calculate the Body Mass Index (BMI) using weight in kilograms and height in meters.\n",
    "    Formula: BMI = weight / (height ** 2)\n",
    "    \"\"\"\n",
    "    return weight/(height ** 2)\n",
    "def get_health_recommendation(bmi):\n",
    "    \"\"\"\n",
    "    Provide health recommendations based on the BMI value.\n",
    "    \"\"\"\n",
    "    if bmi <18.5:\n",
    "        return \"You are underweight. Consider increasing your calorie intake and/or consulting with a healthcare professional.\"\n",
    "    elif 18.5 <= bmi < 25:\n",
    "        return  \"Your weight is within the healthy range. Keep up the good work!\"\n",
    "    elif 25<=bmi<30:\n",
    "        return \"You are overweight. Consider reducing your calorie intake and increasing physical activity.\"\n",
    "    else:\n",
    "        return\"You are obese. It's essential to consult with a healthcare professional for personalized advice and support.\"\n",
    "try:\n",
    "    weight=float(input(\"Enter your weight in kilograms: \"))\n",
    "    height=float(input(\"Enter your height in meters: \"))\n",
    "    bmi=calculate_bmi(weight,height)\n",
    "    print(\"Yor BMI:\",bmi)\n",
    "    recommendation=get_health_recommendation(bmi)\n",
    "    print(\"Health recommendation:\", recommendation)\n",
    "except ValueError:\n",
    "    print(\"Invalid input! Please enter valid numeric values for weight and height.\")"
   ]
  },
  {
   "cell_type": "markdown",
   "id": "29b106f4",
   "metadata": {},
   "source": [
    "# Challenge Level:"
   ]
  },
  {
   "cell_type": "markdown",
   "id": "a963082c",
   "metadata": {},
   "source": [
    "31. Create a program that validates a password based on complexity rules (length, characters, etc.)."
   ]
  },
  {
   "cell_type": "code",
   "execution_count": 1,
   "id": "df81baa2",
   "metadata": {},
   "outputs": [
    {
     "name": "stdout",
     "output_type": "stream",
     "text": [
      "Password is valid!\n"
     ]
    }
   ],
   "source": [
    "def is_valid_password(password):\n",
    "    \"\"\"\n",
    "    Validate the password based on complexity rules:\n",
    "    - Length: At least 8 Characters\n",
    "    - Contains at least one uppercase letter\n",
    "    - Contains at least one lowercase letter\n",
    "    - Contains at least one digit\n",
    "    - Contains at least one special character (such as \"@#$%^&*()-_+=~`[]{}|;:,.<>?/\".)\n",
    "    \"\"\"\n",
    "    if len(password)<8:\n",
    "        return False\n",
    "    has_uppercase=any(char.isupper() for char in password)\n",
    "    has_lowercase=any(char.islower() for char in password)\n",
    "    has_digit=any(char.isdigit() for char in password)\n",
    "    has_special=any(char in \"!@#$%^&*()-_+=~`[]{}|;:,.<>?/\" for char in password)\n",
    "\n",
    "    return has_uppercase and has_lowercase and has_digit and has_special\n",
    "password=input(\"Enter your password: \")\n",
    "\n",
    "if is_valid_password(password):\n",
    "    print(\"Password is valid!\")\n",
    "else:\n",
    "    print(\"Password is not valid! Please make sure it meets the complexity rules.\")"
   ]
  },
  {
   "cell_type": "markdown",
   "id": "9aee274f",
   "metadata": {},
   "source": [
    "32. Develop a program that performs matrix addition and subtraction based on user input."
   ]
  },
  {
   "cell_type": "code",
   "execution_count": 22,
   "id": "d54fb255",
   "metadata": {},
   "outputs": [
    {
     "name": "stdout",
     "output_type": "stream",
     "text": [
      "Enter details for matrix 1:\n"
     ]
    },
    {
     "name": "stdout",
     "output_type": "stream",
     "text": [
      "Matrix 1 Enter the elements of the matrix:\n",
      "\n",
      "Enter details for matrix 2:\n",
      "Matrix 2 Enter the elements of the matrix:\n",
      "\n",
      "Matrix Addition\n",
      "Result:\n",
      "[8.0, 10.0, 12.0]\n",
      "[8.0, 10.0, 12.0]\n",
      "[8.0, 10.0, 42.0]\n",
      "\n",
      "Matrix Subtraction\n",
      "Result:\n",
      "[8.0, 10.0, 12.0]\n",
      "[8.0, 10.0, 12.0]\n",
      "[8.0, 10.0, 42.0]\n"
     ]
    }
   ],
   "source": [
    "def matrix_addition(matrix1,matrix2):\n",
    "    \"\"\"\n",
    "    Perform matrix adition\n",
    "    \"\"\"\n",
    "    if len(matrix1)!=len(matrix2) or len(matrix1[0])!= len(matrix2[0]):\n",
    "        raise ValueError(\"Matrix dimensions must be the same for addition.\")\n",
    "    result=[]\n",
    "    for i in range(len(matrix1)):\n",
    "        row=[]\n",
    "        for j in range(len(matrix1[0])):\n",
    "            row.append(matrix1[i][j]+matrix2[i][j])\n",
    "        result.append(row)\n",
    "    return result\n",
    "def matrix_subtraction(matrix1, matrix2):\n",
    "    \"\"\"\n",
    "    Perform matrix subtraction\n",
    "    \"\"\"\n",
    "    if len(matrix1)!=len(matrix2) or len(matrix1[0])!= len(matrix2[0]):\n",
    "        raise ValueError(\"Matrix dimensions must be the same for subtraction.\")\n",
    "    result=[]\n",
    "    for i in range(len(matrix1)):\n",
    "        row=[]\n",
    "        for j in range(len(matrix1[0])):\n",
    "            row.append(matrix1[i][j]+matrix2[i][j])\n",
    "        result.append(row)\n",
    "    return result\n",
    "def input_matrix(prompt):\n",
    "    \"\"\"\n",
    "    Input matrix from user.\n",
    "    \"\"\"\n",
    "    matrix=[]\n",
    "    row=int(input(prompt + \" Enter number of rows: \"))\n",
    "    cols=int(input(prompt + \" Enter number of columns: \"))\n",
    "    print(prompt + \" Enter the elements of the matrix:\")\n",
    "    for i in range(row):\n",
    "        row=[]\n",
    "        for j in range(cols):\n",
    "            element = float(input(f\"Enter element at position ({i+1},{j+1}): \"))\n",
    "            row.append(element)\n",
    "        matrix.append(row)\n",
    "    return matrix\n",
    "def print_matrix(matrix,label):\n",
    "    \"\"\"\n",
    "    Print the matrix.\n",
    "    \"\"\"\n",
    "    print(label + \":\")\n",
    "    for row in matrix:\n",
    "        print(row)\n",
    "print(\"Enter details for matrix 1:\")\n",
    "matrix1 = input_matrix(\"Matrix 1\")\n",
    "print(\"\\nEnter details for matrix 2:\")\n",
    "matrix2 = input_matrix(\"Matrix 2\")\n",
    "print(\"\\nMatrix Addition\")\n",
    "try:\n",
    "    addition_result = matrix_addition(matrix1, matrix2)\n",
    "    print_matrix(addition_result, \"Result\")\n",
    "except ValueError as e:\n",
    "    print(\"Error:\",e)\n",
    "print(\"\\nMatrix Subtraction\")\n",
    "try:\n",
    "    subtraction_result = matrix_subtraction(matrix1, matrix2)\n",
    "    print_matrix(subtraction_result, \"Result\")\n",
    "except ValueError as e:\n",
    "    print(\"Error:\", e)"
   ]
  },
  {
   "cell_type": "markdown",
   "id": "91f9d953",
   "metadata": {},
   "source": [
    "33. Write a program that calculates the greatest common divisor (GCD) of two numbers using the Euclidean \n",
    "algorithm."
   ]
  },
  {
   "cell_type": "code",
   "execution_count": 7,
   "id": "32df573d",
   "metadata": {},
   "outputs": [
    {
     "name": "stdout",
     "output_type": "stream",
     "text": [
      "Greatest Common Divisor (GCD) of 16 and 8 is: 8\n"
     ]
    }
   ],
   "source": [
    "def gcd_eucliden(a,b):\n",
    "    \"\"\"\n",
    "    Calculate the greatest common divisor(GCD) of two numbers using the Euclidean algorithm\n",
    "    \"\"\"\n",
    "    while b!=0:\n",
    "        a,b=b,a%b\n",
    "    return a\n",
    "try:\n",
    "    num1=int(input(\"Enter the first number\"))\n",
    "    num2=int(input(\"Enter the second number\"))\n",
    "    gcd=gcd_eucliden(num1,num2)\n",
    "    print(f\"Greatest Common Divisor (GCD) of {num1} and {num2} is: {gcd}\")\n",
    "except ValueError:\n",
    "    print(\"Invalid input! Please enter valid integers for numbers.\")"
   ]
  },
  {
   "cell_type": "markdown",
   "id": "adb6695f",
   "metadata": {},
   "source": [
    "34. Build a program that performs matrix multiplication using nested loops and conditional statements."
   ]
  },
  {
   "cell_type": "code",
   "execution_count": 2,
   "id": "cc531a36",
   "metadata": {},
   "outputs": [
    {
     "name": "stdout",
     "output_type": "stream",
     "text": [
      "Enter details for matrix 1:\n",
      "Matrix1 Enter the elements of the matrix:\n",
      "\n",
      "Enter details for matrix 2:\n",
      "Matrix2 Enter the elements of the matrix:\n",
      "\n",
      "Matrix Multiplication:\n",
      "Result:\n",
      "[36.0, 48.0, 60.0]\n",
      "[78.0, 99.0, 120.0]\n",
      "[144.0, 183.0, 222.0]\n"
     ]
    }
   ],
   "source": [
    "def matrix_multiplication(matrix1,matrix2):\n",
    "    \"\"\"\n",
    "    Perform matrix multiplication using nested loops and conditional statements.\n",
    "    \"\"\"\n",
    "    if len(matrix1[0])!=len(matrix2):\n",
    "        raise ValueError(\"Number of columns in matrix1 must be equal to the number of rows in matrix2.\")\n",
    "    result=[]\n",
    "    for i in range(len(matrix1)):\n",
    "        row=[]\n",
    "        for j in range(len(matrix2[0])):\n",
    "            element=0\n",
    "            for k in range(len(matrix2)):\n",
    "                element+=matrix1[i][k] * matrix2[k][j]\n",
    "            row.append(element)\n",
    "        result.append(row)\n",
    "    return result\n",
    "def input_matrix(prompt):\n",
    "    \"\"\"\n",
    "    Input matrix from user.\n",
    "    \"\"\"\n",
    "    matrix=[]\n",
    "    rows=int(input(prompt + \" Enter number of rows: \"))\n",
    "    cols=int(input(prompt + \" Enter number of columns: \"))\n",
    "    print(prompt + \" Enter the elements of the matrix:\")\n",
    "    for i in range(rows):\n",
    "        row=[]\n",
    "        for j in range(cols):\n",
    "            element= float(input(f\"Enter element at position ({i+1},{j+1}): \"))\n",
    "            row.append(element)\n",
    "        matrix.append(row)\n",
    "    return matrix\n",
    "def print_matrix(matrix,lebel):\n",
    "    \"\"\"\n",
    "    Print the matrix.\n",
    "    \"\"\"\n",
    "    print(lebel+\":\")\n",
    "    for row in matrix:\n",
    "        print(row)\n",
    "print(\"Enter details for matrix 1:\")\n",
    "matrix1=input_matrix(\"Matrix1\")\n",
    "print(\"\\nEnter details for matrix 2:\")\n",
    "matrix2=input_matrix(\"Matrix2\")\n",
    "print(\"\\nMatrix Multiplication:\")\n",
    "try:\n",
    "    multiplication_result = matrix_multiplication(matrix1, matrix2)\n",
    "    print_matrix(multiplication_result, \"Result\")\n",
    "except ValueError as e:\n",
    "    print(\"Error:\",e)"
   ]
  },
  {
   "cell_type": "markdown",
   "id": "19ef6e7d",
   "metadata": {},
   "source": [
    "35. Create a program that simulates a basic text-based tic-tac-toe game against the computer."
   ]
  },
  {
   "cell_type": "code",
   "execution_count": 7,
   "id": "d9d230d3",
   "metadata": {},
   "outputs": [
    {
     "name": "stdout",
     "output_type": "stream",
     "text": [
      "Welcome to tic-tac-toe\n",
      "You are playing as X\n",
      "  |   |  \n",
      "---------\n",
      "  |   |  \n",
      "---------\n",
      "  |   |  \n",
      "---------\n"
     ]
    },
    {
     "name": "stdout",
     "output_type": "stream",
     "text": [
      "  |   |  \n",
      "---------\n",
      "  |   |  \n",
      "---------\n",
      "  | X |  \n",
      "---------\n",
      "  |   |  \n",
      "---------\n",
      "  | O |  \n",
      "---------\n",
      "  | X |  \n",
      "---------\n",
      "  | X |  \n",
      "---------\n",
      "  | O |  \n",
      "---------\n",
      "  | X |  \n",
      "---------\n",
      "O | X |  \n",
      "---------\n",
      "  | O |  \n",
      "---------\n",
      "  | X |  \n",
      "---------\n",
      "O | X |  \n",
      "---------\n",
      "  | O | X\n",
      "---------\n",
      "  | X |  \n",
      "---------\n",
      "Computer wins!\n"
     ]
    }
   ],
   "source": [
    "import random\n",
    "def print_board(board):\n",
    "    \"\"\"\n",
    "    Print tic-tac-toe board\n",
    "    \"\"\"\n",
    "    for row in board:\n",
    "        print(\" | \".join(row))\n",
    "        print(\"-\"*3)\n",
    "def check_winner(board,player):\n",
    "    \"\"\"\n",
    "    Check if the player has won the game.\n",
    "    \"\"\"\n",
    "    for row in board:\n",
    "        if all(cell==player for cell in row):\n",
    "            return True\n",
    "    for col in range(3):\n",
    "        if all(board[row][col]==player for  row in range(3)):\n",
    "            return True\n",
    "    if all(board[i][i]==player for i in range(3)) or all(board[i][2-i]==player for i in  range(3)):\n",
    "        return True\n",
    "    return False\n",
    "def is_board_full(board):\n",
    "    \"\"\"\n",
    "    Check if board is full.\n",
    "    \"\"\"\n",
    "    for row in board:\n",
    "        for cell in row:\n",
    "            if cell==\" \":\n",
    "                return False\n",
    "    return True\n",
    "def get_computer_move(board):\n",
    "    \"\"\"\n",
    "    Get computer's move.\n",
    "    \"\"\"\n",
    "    empty_cells=[(i,j) for i in range(3) for j in range(3) if board[i][j]==\" \"]\n",
    "    return random.choice(empty_cells)\n",
    "def play_game():\n",
    "    \"\"\"\n",
    "    Play the tic-tac-toe game\n",
    "    \"\"\"\n",
    "    board=[[\" \" for _ in range(3)] for _ in range(3)]\n",
    "    players=[\"X\",\"O\"]\n",
    "    current_player=random.choice(players)\n",
    "    print(\"Welcome to tic-tac-toe\")\n",
    "    print(\"You are playing as\", current_player)\n",
    "    while True:\n",
    "        print_board(board)\n",
    "        if current_player==\"X\":\n",
    "            row =int(input(\"Enter row(1,2 or 3):\"))-1\n",
    "            col=int(input(\"Enter row(1,2 or 3):\"))-1\n",
    "            if board[row][col]==\" \":\n",
    "                board[row][col]=\"X\"\n",
    "                if check_winner(board,\"X\"):\n",
    "                    print(\"Congratulations! You Win!\")\n",
    "                    break\n",
    "                elif is_board_full(board):\n",
    "                    print(\"It's a draw\")\n",
    "                    break\n",
    "                current_player=\"O\"\n",
    "            else:\n",
    "                print(\"Cell is already occupied. Try again.\")\n",
    "        else:\n",
    "            row, col=get_computer_move(board)\n",
    "            board[row][col]=\"O\"\n",
    "            if check_winner(board,\"O\"):\n",
    "                print(\"Computer wins!\")\n",
    "                break\n",
    "            elif is_board_full(board):\n",
    "                print(\"It's a draw!\")\n",
    "                break\n",
    "            current_player=\"X\"\n",
    "play_game()"
   ]
  },
  {
   "cell_type": "markdown",
   "id": "281e067a",
   "metadata": {},
   "source": [
    "36. Write a program that generates Fibonacci numbers up to a specified term using iterative methods."
   ]
  },
  {
   "cell_type": "code",
   "execution_count": 11,
   "id": "a6478903",
   "metadata": {},
   "outputs": [
    {
     "name": "stdout",
     "output_type": "stream",
     "text": [
      "Fibonacci sequence up to the 22 term: [0, 1, 1, 2, 3, 5, 8, 13, 21, 34, 55, 89, 144, 233, 377, 610, 987, 1597, 2584, 4181, 6765, 10946]\n"
     ]
    }
   ],
   "source": [
    "def generates_fibonacci(n):\n",
    "    \"\"\"\n",
    "    Generate Fibonacci numbers up to the nth term using iterative methods.\n",
    "    \"\"\"\n",
    "    fib_sequnce=[0,1]\n",
    "    for i in range(2,n):\n",
    "        next_term=fib_sequnce[-1]+fib_sequnce[-2]\n",
    "        fib_sequnce.append(next_term)\n",
    "    return fib_sequnce\n",
    "try:\n",
    "    num_terms=int(input(\"Enter the number of Fibonacci terms to generate: \"))\n",
    "    if num_terms<=0:\n",
    "        raise ValueError(\"Number of terms must be a positive integer.\")\n",
    "    fibonacci_sequence = generates_fibonacci(num_terms)\n",
    "    print(f\"Fibonacci sequence up to the {num_terms} term: {fibonacci_sequence}\")\n",
    "except ValueError as ve:\n",
    "    print(\"Invalid input:\", ve)"
   ]
  },
  {
   "cell_type": "markdown",
   "id": "8929f244",
   "metadata": {},
   "source": [
    "37. Develop a program that calculates the nth term of the Fibonacci sequence using memoization."
   ]
  },
  {
   "cell_type": "code",
   "execution_count": 14,
   "id": "09ae013d",
   "metadata": {},
   "outputs": [
    {
     "name": "stdout",
     "output_type": "stream",
     "text": [
      "The 10th Fibonacci term is: 55\n"
     ]
    }
   ],
   "source": [
    "def fibonacci_memoization(n,memo={}):\n",
    "    \"\"\"\n",
    "    Calculate the nth term of the Fibonacci sequence using memoization.\n",
    "    \"\"\"\n",
    "    if n is memo:\n",
    "        return memo[n]\n",
    "    if n<=1:\n",
    "        return n\n",
    "    memo[n]=fibonacci_memoization(n - 1, memo) + fibonacci_memoization(n - 2, memo)\n",
    "    return memo[n]\n",
    "try:\n",
    "    num_terms = int(input(\"Enter the value of n to calculate the nth Fibonacci term: \"))\n",
    "    if num_terms<0:\n",
    "        raise ValueError(\"n must be a non-negative integer.\")\n",
    "    fibonacci_term=fibonacci_memoization(num_terms)\n",
    "    print(f\"The {num_terms}th Fibonacci term is: {fibonacci_term}\")\n",
    "except ValueError as ve:\n",
    "    print(\"Invalid input:\", ve)"
   ]
  },
  {
   "cell_type": "markdown",
   "id": "c8910ab5",
   "metadata": {},
   "source": [
    "38. Create a program that generates a calendar for a given month and year using conditional statements."
   ]
  },
  {
   "cell_type": "code",
   "execution_count": 16,
   "id": "93e524fc",
   "metadata": {},
   "outputs": [
    {
     "name": "stdout",
     "output_type": "stream",
     "text": [
      "4/2024\n",
      "Mo Tu We Th Fr Sa Su\n",
      "    1  2  3  4  5  6 \n",
      " 7  8  9 10 11 12 13 \n",
      "14 15 16 17 18 19 20 \n",
      "21 22 23 24 25 26 27 \n",
      "28 29 30 \n"
     ]
    }
   ],
   "source": [
    "def is_leap_year(year):\n",
    "    \"\"\"\n",
    "    Check if the given year is a leap year.\n",
    "    \"\"\"\n",
    "    return (year % 4 == 0 and year % 100 != 0) or (year % 400 == 0)\n",
    "def get_days_in_month(month,year):\n",
    "    \"\"\"\n",
    "    Get the number of days in the given month and year.\n",
    "    \"\"\"\n",
    "    if month in {1,3,5,7,8,10,12}:\n",
    "        return 31\n",
    "    elif month in {4,6,9,11}:\n",
    "        return 30\n",
    "    elif month==2:\n",
    "        return 29 if is_leap_year(year) else 28\n",
    "    else:\n",
    "        raise ValueError(\"Invalid month\")\n",
    "def generate_calender(month,year):\n",
    "    \"\"\"\n",
    "    Generate a calendar for the given month and year.\n",
    "    \"\"\"\n",
    "    days_in_month = get_days_in_month(month,year)\n",
    "    first_day_of_month=1\n",
    "    print(f\"{month}/{year}\")\n",
    "    print(\"Mo Tu We Th Fr Sa Su\")\n",
    "    print(\"   \" * first_day_of_month, end=\"\")\n",
    "    for day in range(1,days_in_month+1):\n",
    "        print(f\"{day:2d}\",end=\" \")\n",
    "        if (first_day_of_month + day) % 7 == 0 or day == days_in_month:\n",
    "            print()\n",
    "try:\n",
    "    month=int(input(\"Enter the month(1-12): \"))\n",
    "    year=int(input(\"Enter thr year: \"))\n",
    "    generate_calender(month,year)\n",
    "except ValueError:\n",
    "    print(\"Invalid input! Please enter valid integers for month and year.\")"
   ]
  },
  {
   "cell_type": "markdown",
   "id": "43a78aff",
   "metadata": {},
   "source": [
    "39. Build a program that simulates a basic text-based blackjack game against the computer."
   ]
  },
  {
   "cell_type": "code",
   "execution_count": 18,
   "id": "cf67e9b3",
   "metadata": {},
   "outputs": [
    {
     "name": "stdout",
     "output_type": "stream",
     "text": [
      "\n",
      "---Blackjack---\n",
      "\n",
      "Dealer's hand: Q *\n",
      "Your hand: 9, 6 (15)\n",
      "\n",
      "\n",
      "---Blackjack---\n",
      "\n",
      "Dealer's hand: Q *\n",
      "Your hand: 9, 6 (15)\n",
      "Dealer's hand: Q, J (20)\n",
      "\n",
      "You Win!\n"
     ]
    }
   ],
   "source": [
    "import random\n",
    "def deal_card():\n",
    "    \"\"\"\n",
    "    Deal a random card.\n",
    "    \"\"\"\n",
    "    cards=['2','3','4','5','6','7','8','9','10','J','Q','K','A']\n",
    "    return random.choice(cards)\n",
    "def calculate_score(cards):\n",
    "    \"\"\"\n",
    "    Calculated the total score of a hand\n",
    "    \"\"\"\n",
    "    score=0\n",
    "    for card in cards:\n",
    "        if card.isdigit():\n",
    "            score+=int(card)\n",
    "        elif card in ['J','Q','K']:\n",
    "            score+=10\n",
    "        elif card ==\"A\":\n",
    "            if score+11<=21:\n",
    "                score+=11\n",
    "            else:\n",
    "                score+=1\n",
    "    return score\n",
    "def display_board(player_cards, dealer_cards, player_score, dealer_score, game_over=False):\n",
    "    \"\"\"\n",
    "    Display the current state of the game.\n",
    "    \"\"\"\n",
    "    print(\"\\n---Blackjack---\\n\")\n",
    "    print(\"Dealer's hand:\", dealer_cards[0], \"*\")\n",
    "    print(\"Your hand:\", \", \".join(player_cards), f\"({player_score})\")\n",
    "    if game_over:\n",
    "        print(\"Dealer's hand:\", \", \".join(dealer_cards), f\"({dealer_score})\")\n",
    "    print()\n",
    "def play_blackjack():\n",
    "    \"\"\"Play a text-based blackjack game against the computer.\n",
    "    \"\"\"\n",
    "    player_cards = [deal_card(), deal_card()]\n",
    "    dealer_cards = [deal_card(), deal_card()]\n",
    "    player_score= calculate_score(player_cards)\n",
    "    dealer_score= calculate_score(dealer_cards)\n",
    "    display_board(player_cards,dealer_cards,player_score,dealer_score)\n",
    "    while player_score <21:\n",
    "        action=input(\"Do you want to hit or stand? (h/s): \").lower()\n",
    "        if action=='h':\n",
    "            player_cards.append(deal_card())\n",
    "            player_score = calculate_score(player_cards)\n",
    "            display_board(player_cards, dealer_cards, player_score, dealer_score)\n",
    "        elif action=='s':\n",
    "            break\n",
    "    while dealer_score <17:\n",
    "        dealer_cards.append(deal_card())\n",
    "        dealer_score=calculate_score(dealer_cards)\n",
    "    display_board(player_cards,dealer_cards,player_score,dealer_score,True)\n",
    "    if player_score>21:\n",
    "        print(\"You bust! Dealer wins.\")\n",
    "    elif dealer_score>21:\n",
    "        print(\"Dealer busts! You win.\")\n",
    "    elif player_score<dealer_score:\n",
    "        print(\"You Win!\")\n",
    "    elif player_score < dealer_score:\n",
    "        print(\"Dealer wins.\")\n",
    "    else:\n",
    "        print(\"It's a tie!\")\n",
    "play_blackjack()"
   ]
  },
  {
   "cell_type": "markdown",
   "id": "0e688f62",
   "metadata": {},
   "source": [
    "40. Write a program that generates the prime factors of a given number using trial division"
   ]
  },
  {
   "cell_type": "code",
   "execution_count": 19,
   "id": "cf560b2b",
   "metadata": {},
   "outputs": [
    {
     "name": "stdout",
     "output_type": "stream",
     "text": [
      "Prime factors of 22 are: [2, 11]\n"
     ]
    }
   ],
   "source": [
    "def prime_factors(n):\n",
    "    \"\"\"\n",
    "    Generate the prime factors of a given number using trail division.\n",
    "    \"\"\"\n",
    "    factors=[]\n",
    "    divisor=2\n",
    "    while n>1:\n",
    "        while n % divisor==0:\n",
    "            factors.append(divisor)\n",
    "            n//=divisor\n",
    "        divisor+=1\n",
    "    return factors\n",
    "try:\n",
    "    number=int(input(\"Enter a number to find its prime factors: \"))\n",
    "    if number<=1:\n",
    "        raise ValueError(\"Number must be greater than 1.\")\n",
    "    factors=prime_factors(number)\n",
    "    print(f\"Prime factors of {number} are: {factors}\")\n",
    "except ValueError as ve:\n",
    "    print(\"Invalid input:\", ve)"
   ]
  }
 ],
 "metadata": {
  "kernelspec": {
   "display_name": "Python 3 (ipykernel)",
   "language": "python",
   "name": "python3"
  },
  "language_info": {
   "codemirror_mode": {
    "name": "ipython",
    "version": 3
   },
   "file_extension": ".py",
   "mimetype": "text/x-python",
   "name": "python",
   "nbconvert_exporter": "python",
   "pygments_lexer": "ipython3",
   "version": "3.11.3"
  }
 },
 "nbformat": 4,
 "nbformat_minor": 5
}
